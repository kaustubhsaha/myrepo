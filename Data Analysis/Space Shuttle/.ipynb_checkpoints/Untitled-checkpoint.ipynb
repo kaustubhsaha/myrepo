{
 "cells": [
  {
   "cell_type": "markdown",
   "metadata": {},
   "source": [
    "Read https://en.wikipedia.org/wiki/Space_Shuttle_Challenger_disaster.<br>\n",
    "Go to https://archive.ics.uci.edu/ml/datasets/Challenger+USA+Space+Shuttle+O-Ring.<br>\n",
    "Look at the main page and the Data Folder and Data Set Description page (links near top)<br>\n",
    "The data is avaliable as <b>o-ring-erosion-or-blowby.csv</b>.\n",
    "<i>“Blowby”</i> means <i>“leaking”</i><br>\n",
    "Load the file into a pandas DataFrame.<br>\n",
    "Use statsmodels to do a multiple linear regression. <br>\n",
    "How many O-rings does the model predict will show erosion or blowby when the temperature is 31 degrees F?  (We don’t know how much pressure the rings will experience at liftoff so do predictions at 0, 50, 100 and 200 PSI to see what difference it makes.)"
   ]
  },
  {
   "cell_type": "raw",
   "metadata": {},
   "source": []
  },
  {
   "cell_type": "code",
   "execution_count": null,
   "metadata": {},
   "outputs": [],
   "source": []
  }
 ],
 "metadata": {
  "kernelspec": {
   "display_name": "Python 3",
   "language": "python",
   "name": "python3"
  },
  "language_info": {
   "codemirror_mode": {
    "name": "ipython",
    "version": 3
   },
   "file_extension": ".py",
   "mimetype": "text/x-python",
   "name": "python",
   "nbconvert_exporter": "python",
   "pygments_lexer": "ipython3",
   "version": "3.6.5"
  }
 },
 "nbformat": 4,
 "nbformat_minor": 2
}

{
 "cells": [
  {
   "cell_type": "markdown",
   "metadata": {},
   "source": [
    "## Assignment 3 - Time Series\n",
    "\n",
    "1. Download the adjusted close price for AAPL, INTC, EBAY and AMZN for the last 60 months\n",
    "2. Select the adjusted monthend close price for each of the stocks.\n",
    "3. Use pandas autocorrelation_plot() function to plot the autocorrelation of the monthend close prices of each of the stocks.  <i>Are they autocorrelated?  Why or why not?</i>\n",
    "4. Calculate the monthly return over the period for each stock using the “shift trick” on the lecture slide titled Shifting (Note: you should end up with a time series 59 months long)\n",
    "5. Plot the autocorrelation of the monthly returns.  <i>Are they autocorrelated?  Why or why not?</i>\n",
    "6. <i>OPTIONAL: Visualize the correlation between the returns of all pairs of stocks using a scatterplot matrix (1 bonus mark)</i>\n",
    "7. <i>OPTIONAL: Following the instructions in the article \"The Glowing Python\"  visualize the correlation of the returns of all pairs of stocks (2 bonus marks)</i>"
   ]
  },
  {
   "cell_type": "code",
   "execution_count": 68,
   "metadata": {},
   "outputs": [],
   "source": [
    "# the usual boilerplate stuff\n",
    "import pandas as pd\n",
    "import numpy as np\n",
    "import matplotlib.pyplot as plt\n",
    "import seaborn as sns\n",
    "import pandas_datareader.data as web\n",
    "import quandl\n",
    "\n",
    "\n",
    "quandl.ApiConfig.api_key = 'j1rPJCD2sDK9zg-JE18D'\n",
    "\n",
    "from dateutil.relativedelta import relativedelta\n",
    "from datetime import datetime\n",
    "\n",
    "from IPython.display import HTML, display\n",
    "\n",
    "pylab.rcParams['figure.figsize'] = (15, 9)\n",
    "\n",
    "plt.ioff()\n"
   ]
  },
  {
   "cell_type": "markdown",
   "metadata": {},
   "source": [
    "<b>Step 1 :</b> Download the adjusted close price for AAPL, INTC, EBAY and AMZN for the last 60 months"
   ]
  },
  {
   "cell_type": "code",
   "execution_count": 69,
   "metadata": {},
   "outputs": [],
   "source": [
    "\n",
    "def get_stock_data(stk, month_count):\n",
    "    end = datetime.today()\n",
    "    end = datetime.strptime(end.strftime('%Y-%m-%d'),'%Y-%m-%d')\n",
    "    start = end - relativedelta(months=60)\n",
    "    \n",
    "    print(\"Returning \",stk,\"data for Start and End dates : \", start, end)\n",
    "    data = quandl.get(\"WIKI/\" + stk, start_date=start, end_date=end)\n",
    "    data.name = stk\n",
    "    return data\n"
   ]
  },
  {
   "cell_type": "markdown",
   "metadata": {},
   "source": [
    "Get data for AAPL (Apple)"
   ]
  },
  {
   "cell_type": "code",
   "execution_count": 70,
   "metadata": {},
   "outputs": [
    {
     "name": "stdout",
     "output_type": "stream",
     "text": [
      "Returning  AAPL data for Start and End dates :  2013-11-17 00:00:00 2018-11-17 00:00:00\n"
     ]
    },
    {
     "data": {
      "text/html": [
       "<table border=\"1\" class=\"dataframe\">\n",
       "  <thead>\n",
       "    <tr style=\"text-align: right;\">\n",
       "      <th></th>\n",
       "      <th>Open</th>\n",
       "      <th>High</th>\n",
       "      <th>Low</th>\n",
       "      <th>Close</th>\n",
       "      <th>Volume</th>\n",
       "      <th>Ex-Dividend</th>\n",
       "      <th>Split Ratio</th>\n",
       "      <th>Adj. Open</th>\n",
       "      <th>Adj. High</th>\n",
       "      <th>Adj. Low</th>\n",
       "      <th>Adj. Close</th>\n",
       "      <th>Adj. Volume</th>\n",
       "    </tr>\n",
       "    <tr>\n",
       "      <th>Date</th>\n",
       "      <th></th>\n",
       "      <th></th>\n",
       "      <th></th>\n",
       "      <th></th>\n",
       "      <th></th>\n",
       "      <th></th>\n",
       "      <th></th>\n",
       "      <th></th>\n",
       "      <th></th>\n",
       "      <th></th>\n",
       "      <th></th>\n",
       "      <th></th>\n",
       "    </tr>\n",
       "  </thead>\n",
       "  <tbody>\n",
       "    <tr>\n",
       "      <th>2013-11-18</th>\n",
       "      <td>524.99</td>\n",
       "      <td>527.19</td>\n",
       "      <td>518.20</td>\n",
       "      <td>518.629</td>\n",
       "      <td>8748000.0</td>\n",
       "      <td>0.0</td>\n",
       "      <td>1.0</td>\n",
       "      <td>69.782984</td>\n",
       "      <td>70.075414</td>\n",
       "      <td>68.880440</td>\n",
       "      <td>68.937464</td>\n",
       "      <td>61236000.0</td>\n",
       "    </tr>\n",
       "    <tr>\n",
       "      <th>2013-11-19</th>\n",
       "      <td>519.03</td>\n",
       "      <td>523.38</td>\n",
       "      <td>517.97</td>\n",
       "      <td>519.550</td>\n",
       "      <td>7462100.0</td>\n",
       "      <td>0.0</td>\n",
       "      <td>1.0</td>\n",
       "      <td>68.990766</td>\n",
       "      <td>69.568979</td>\n",
       "      <td>68.849868</td>\n",
       "      <td>69.059886</td>\n",
       "      <td>52234700.0</td>\n",
       "    </tr>\n",
       "    <tr>\n",
       "      <th>2013-11-20</th>\n",
       "      <td>519.23</td>\n",
       "      <td>520.42</td>\n",
       "      <td>514.33</td>\n",
       "      <td>515.000</td>\n",
       "      <td>6925600.0</td>\n",
       "      <td>0.0</td>\n",
       "      <td>1.0</td>\n",
       "      <td>69.017350</td>\n",
       "      <td>69.175528</td>\n",
       "      <td>68.366030</td>\n",
       "      <td>68.455088</td>\n",
       "      <td>48479200.0</td>\n",
       "    </tr>\n",
       "    <tr>\n",
       "      <th>2013-11-21</th>\n",
       "      <td>517.60</td>\n",
       "      <td>521.21</td>\n",
       "      <td>513.67</td>\n",
       "      <td>521.136</td>\n",
       "      <td>9358100.0</td>\n",
       "      <td>0.0</td>\n",
       "      <td>1.0</td>\n",
       "      <td>68.800687</td>\n",
       "      <td>69.280537</td>\n",
       "      <td>68.278301</td>\n",
       "      <td>69.270701</td>\n",
       "      <td>65506700.0</td>\n",
       "    </tr>\n",
       "    <tr>\n",
       "      <th>2013-11-22</th>\n",
       "      <td>519.52</td>\n",
       "      <td>522.16</td>\n",
       "      <td>518.53</td>\n",
       "      <td>519.800</td>\n",
       "      <td>7990200.0</td>\n",
       "      <td>0.0</td>\n",
       "      <td>1.0</td>\n",
       "      <td>69.055898</td>\n",
       "      <td>69.406813</td>\n",
       "      <td>68.924305</td>\n",
       "      <td>69.093116</td>\n",
       "      <td>55931400.0</td>\n",
       "    </tr>\n",
       "  </tbody>\n",
       "</table>"
      ],
      "text/plain": [
       "<IPython.core.display.HTML object>"
      ]
     },
     "metadata": {},
     "output_type": "display_data"
    }
   ],
   "source": [
    "apple = get_stock_data(\"AAPL\", 60)\n",
    "display(HTML(apple.head().to_html()))"
   ]
  },
  {
   "cell_type": "markdown",
   "metadata": {},
   "source": [
    "Get data for Intel (INTC)"
   ]
  },
  {
   "cell_type": "code",
   "execution_count": 71,
   "metadata": {},
   "outputs": [
    {
     "name": "stdout",
     "output_type": "stream",
     "text": [
      "Returning  INTC data for Start and End dates :  2013-11-17 00:00:00 2018-11-17 00:00:00\n"
     ]
    },
    {
     "data": {
      "text/html": [
       "<table border=\"1\" class=\"dataframe\">\n",
       "  <thead>\n",
       "    <tr style=\"text-align: right;\">\n",
       "      <th></th>\n",
       "      <th>Open</th>\n",
       "      <th>High</th>\n",
       "      <th>Low</th>\n",
       "      <th>Close</th>\n",
       "      <th>Volume</th>\n",
       "      <th>Ex-Dividend</th>\n",
       "      <th>Split Ratio</th>\n",
       "      <th>Adj. Open</th>\n",
       "      <th>Adj. High</th>\n",
       "      <th>Adj. Low</th>\n",
       "      <th>Adj. Close</th>\n",
       "      <th>Adj. Volume</th>\n",
       "    </tr>\n",
       "    <tr>\n",
       "      <th>Date</th>\n",
       "      <th></th>\n",
       "      <th></th>\n",
       "      <th></th>\n",
       "      <th></th>\n",
       "      <th></th>\n",
       "      <th></th>\n",
       "      <th></th>\n",
       "      <th></th>\n",
       "      <th></th>\n",
       "      <th></th>\n",
       "      <th></th>\n",
       "      <th></th>\n",
       "    </tr>\n",
       "  </thead>\n",
       "  <tbody>\n",
       "    <tr>\n",
       "      <th>2013-11-18</th>\n",
       "      <td>24.61</td>\n",
       "      <td>24.70</td>\n",
       "      <td>24.48</td>\n",
       "      <td>24.60</td>\n",
       "      <td>24712500.0</td>\n",
       "      <td>0.0</td>\n",
       "      <td>1.0</td>\n",
       "      <td>21.664733</td>\n",
       "      <td>21.743962</td>\n",
       "      <td>21.550291</td>\n",
       "      <td>21.655930</td>\n",
       "      <td>24712500.0</td>\n",
       "    </tr>\n",
       "    <tr>\n",
       "      <th>2013-11-19</th>\n",
       "      <td>24.74</td>\n",
       "      <td>24.87</td>\n",
       "      <td>24.61</td>\n",
       "      <td>24.70</td>\n",
       "      <td>24870200.0</td>\n",
       "      <td>0.0</td>\n",
       "      <td>1.0</td>\n",
       "      <td>21.779175</td>\n",
       "      <td>21.893617</td>\n",
       "      <td>21.664733</td>\n",
       "      <td>21.743962</td>\n",
       "      <td>24870200.0</td>\n",
       "    </tr>\n",
       "    <tr>\n",
       "      <th>2013-11-20</th>\n",
       "      <td>24.70</td>\n",
       "      <td>24.82</td>\n",
       "      <td>24.46</td>\n",
       "      <td>24.56</td>\n",
       "      <td>20288600.0</td>\n",
       "      <td>0.0</td>\n",
       "      <td>1.0</td>\n",
       "      <td>21.743962</td>\n",
       "      <td>21.849600</td>\n",
       "      <td>21.532684</td>\n",
       "      <td>21.620717</td>\n",
       "      <td>20288600.0</td>\n",
       "    </tr>\n",
       "    <tr>\n",
       "      <th>2013-11-21</th>\n",
       "      <td>24.61</td>\n",
       "      <td>25.29</td>\n",
       "      <td>24.52</td>\n",
       "      <td>25.23</td>\n",
       "      <td>44050600.0</td>\n",
       "      <td>0.0</td>\n",
       "      <td>1.0</td>\n",
       "      <td>21.664733</td>\n",
       "      <td>22.263352</td>\n",
       "      <td>21.585504</td>\n",
       "      <td>22.210533</td>\n",
       "      <td>44050600.0</td>\n",
       "    </tr>\n",
       "    <tr>\n",
       "      <th>2013-11-22</th>\n",
       "      <td>24.50</td>\n",
       "      <td>24.51</td>\n",
       "      <td>23.84</td>\n",
       "      <td>23.87</td>\n",
       "      <td>77908100.0</td>\n",
       "      <td>0.0</td>\n",
       "      <td>1.0</td>\n",
       "      <td>21.567897</td>\n",
       "      <td>21.576701</td>\n",
       "      <td>20.986885</td>\n",
       "      <td>21.013294</td>\n",
       "      <td>77908100.0</td>\n",
       "    </tr>\n",
       "  </tbody>\n",
       "</table>"
      ],
      "text/plain": [
       "<IPython.core.display.HTML object>"
      ]
     },
     "metadata": {},
     "output_type": "display_data"
    }
   ],
   "source": [
    "intel = get_stock_data(\"INTC\", 60)\n",
    "display(HTML(intel.head().to_html()))"
   ]
  },
  {
   "cell_type": "markdown",
   "metadata": {},
   "source": [
    "Get data for EBay (EBAY)"
   ]
  },
  {
   "cell_type": "code",
   "execution_count": 72,
   "metadata": {},
   "outputs": [
    {
     "name": "stdout",
     "output_type": "stream",
     "text": [
      "Returning  EBAY data for Start and End dates :  2013-11-17 00:00:00 2018-11-17 00:00:00\n"
     ]
    },
    {
     "data": {
      "text/html": [
       "<table border=\"1\" class=\"dataframe\">\n",
       "  <thead>\n",
       "    <tr style=\"text-align: right;\">\n",
       "      <th></th>\n",
       "      <th>Open</th>\n",
       "      <th>High</th>\n",
       "      <th>Low</th>\n",
       "      <th>Close</th>\n",
       "      <th>Volume</th>\n",
       "      <th>Ex-Dividend</th>\n",
       "      <th>Split Ratio</th>\n",
       "      <th>Adj. Open</th>\n",
       "      <th>Adj. High</th>\n",
       "      <th>Adj. Low</th>\n",
       "      <th>Adj. Close</th>\n",
       "      <th>Adj. Volume</th>\n",
       "    </tr>\n",
       "    <tr>\n",
       "      <th>Date</th>\n",
       "      <th></th>\n",
       "      <th></th>\n",
       "      <th></th>\n",
       "      <th></th>\n",
       "      <th></th>\n",
       "      <th></th>\n",
       "      <th></th>\n",
       "      <th></th>\n",
       "      <th></th>\n",
       "      <th></th>\n",
       "      <th></th>\n",
       "      <th></th>\n",
       "    </tr>\n",
       "  </thead>\n",
       "  <tbody>\n",
       "    <tr>\n",
       "      <th>2013-11-18</th>\n",
       "      <td>52.33</td>\n",
       "      <td>52.69</td>\n",
       "      <td>51.73</td>\n",
       "      <td>52.08</td>\n",
       "      <td>12753900.0</td>\n",
       "      <td>0.0</td>\n",
       "      <td>1.0</td>\n",
       "      <td>20.587472</td>\n",
       "      <td>20.729102</td>\n",
       "      <td>20.351422</td>\n",
       "      <td>20.489118</td>\n",
       "      <td>12753900.0</td>\n",
       "    </tr>\n",
       "    <tr>\n",
       "      <th>2013-11-19</th>\n",
       "      <td>52.43</td>\n",
       "      <td>52.50</td>\n",
       "      <td>51.94</td>\n",
       "      <td>52.13</td>\n",
       "      <td>10263300.0</td>\n",
       "      <td>0.0</td>\n",
       "      <td>1.0</td>\n",
       "      <td>20.626813</td>\n",
       "      <td>20.654353</td>\n",
       "      <td>20.434040</td>\n",
       "      <td>20.508789</td>\n",
       "      <td>10263300.0</td>\n",
       "    </tr>\n",
       "    <tr>\n",
       "      <th>2013-11-20</th>\n",
       "      <td>52.48</td>\n",
       "      <td>52.50</td>\n",
       "      <td>49.86</td>\n",
       "      <td>50.39</td>\n",
       "      <td>34262800.0</td>\n",
       "      <td>0.0</td>\n",
       "      <td>1.0</td>\n",
       "      <td>20.646484</td>\n",
       "      <td>20.654353</td>\n",
       "      <td>19.615734</td>\n",
       "      <td>19.824244</td>\n",
       "      <td>34262800.0</td>\n",
       "    </tr>\n",
       "    <tr>\n",
       "      <th>2013-11-21</th>\n",
       "      <td>50.77</td>\n",
       "      <td>50.80</td>\n",
       "      <td>49.93</td>\n",
       "      <td>50.21</td>\n",
       "      <td>17609600.0</td>\n",
       "      <td>0.0</td>\n",
       "      <td>1.0</td>\n",
       "      <td>19.973743</td>\n",
       "      <td>19.985545</td>\n",
       "      <td>19.643273</td>\n",
       "      <td>19.753429</td>\n",
       "      <td>17609600.0</td>\n",
       "    </tr>\n",
       "    <tr>\n",
       "      <th>2013-11-22</th>\n",
       "      <td>50.27</td>\n",
       "      <td>50.52</td>\n",
       "      <td>50.18</td>\n",
       "      <td>50.33</td>\n",
       "      <td>13715700.0</td>\n",
       "      <td>0.0</td>\n",
       "      <td>1.0</td>\n",
       "      <td>19.777034</td>\n",
       "      <td>19.875388</td>\n",
       "      <td>19.741627</td>\n",
       "      <td>19.800639</td>\n",
       "      <td>13715700.0</td>\n",
       "    </tr>\n",
       "  </tbody>\n",
       "</table>"
      ],
      "text/plain": [
       "<IPython.core.display.HTML object>"
      ]
     },
     "metadata": {},
     "output_type": "display_data"
    }
   ],
   "source": [
    "ebay = get_stock_data(\"EBAY\", 60)\n",
    "display(HTML(ebay.head().to_html()))"
   ]
  },
  {
   "cell_type": "markdown",
   "metadata": {},
   "source": [
    "Get data for Amazon (AMZN)"
   ]
  },
  {
   "cell_type": "code",
   "execution_count": 73,
   "metadata": {},
   "outputs": [
    {
     "name": "stdout",
     "output_type": "stream",
     "text": [
      "Returning  AMZN data for Start and End dates :  2013-11-17 00:00:00 2018-11-17 00:00:00\n"
     ]
    },
    {
     "data": {
      "text/html": [
       "<table border=\"1\" class=\"dataframe\">\n",
       "  <thead>\n",
       "    <tr style=\"text-align: right;\">\n",
       "      <th></th>\n",
       "      <th>Open</th>\n",
       "      <th>High</th>\n",
       "      <th>Low</th>\n",
       "      <th>Close</th>\n",
       "      <th>Volume</th>\n",
       "      <th>Ex-Dividend</th>\n",
       "      <th>Split Ratio</th>\n",
       "      <th>Adj. Open</th>\n",
       "      <th>Adj. High</th>\n",
       "      <th>Adj. Low</th>\n",
       "      <th>Adj. Close</th>\n",
       "      <th>Adj. Volume</th>\n",
       "    </tr>\n",
       "    <tr>\n",
       "      <th>Date</th>\n",
       "      <th></th>\n",
       "      <th></th>\n",
       "      <th></th>\n",
       "      <th></th>\n",
       "      <th></th>\n",
       "      <th></th>\n",
       "      <th></th>\n",
       "      <th></th>\n",
       "      <th></th>\n",
       "      <th></th>\n",
       "      <th></th>\n",
       "      <th></th>\n",
       "    </tr>\n",
       "  </thead>\n",
       "  <tbody>\n",
       "    <tr>\n",
       "      <th>2013-11-18</th>\n",
       "      <td>370.28</td>\n",
       "      <td>373.49</td>\n",
       "      <td>364.67</td>\n",
       "      <td>366.18</td>\n",
       "      <td>2737400.0</td>\n",
       "      <td>0.0</td>\n",
       "      <td>1.0</td>\n",
       "      <td>370.28</td>\n",
       "      <td>373.49</td>\n",
       "      <td>364.67</td>\n",
       "      <td>366.18</td>\n",
       "      <td>2737400.0</td>\n",
       "    </tr>\n",
       "    <tr>\n",
       "      <th>2013-11-19</th>\n",
       "      <td>365.82</td>\n",
       "      <td>368.78</td>\n",
       "      <td>362.50</td>\n",
       "      <td>364.94</td>\n",
       "      <td>1904800.0</td>\n",
       "      <td>0.0</td>\n",
       "      <td>1.0</td>\n",
       "      <td>365.82</td>\n",
       "      <td>368.78</td>\n",
       "      <td>362.50</td>\n",
       "      <td>364.94</td>\n",
       "      <td>1904800.0</td>\n",
       "    </tr>\n",
       "    <tr>\n",
       "      <th>2013-11-20</th>\n",
       "      <td>367.56</td>\n",
       "      <td>367.56</td>\n",
       "      <td>360.45</td>\n",
       "      <td>362.57</td>\n",
       "      <td>1771500.0</td>\n",
       "      <td>0.0</td>\n",
       "      <td>1.0</td>\n",
       "      <td>367.56</td>\n",
       "      <td>367.56</td>\n",
       "      <td>360.45</td>\n",
       "      <td>362.57</td>\n",
       "      <td>1771500.0</td>\n",
       "    </tr>\n",
       "    <tr>\n",
       "      <th>2013-11-21</th>\n",
       "      <td>364.05</td>\n",
       "      <td>369.25</td>\n",
       "      <td>363.30</td>\n",
       "      <td>368.92</td>\n",
       "      <td>1964600.0</td>\n",
       "      <td>0.0</td>\n",
       "      <td>1.0</td>\n",
       "      <td>364.05</td>\n",
       "      <td>369.25</td>\n",
       "      <td>363.30</td>\n",
       "      <td>368.92</td>\n",
       "      <td>1964600.0</td>\n",
       "    </tr>\n",
       "    <tr>\n",
       "      <th>2013-11-22</th>\n",
       "      <td>370.00</td>\n",
       "      <td>374.50</td>\n",
       "      <td>366.31</td>\n",
       "      <td>372.31</td>\n",
       "      <td>2965500.0</td>\n",
       "      <td>0.0</td>\n",
       "      <td>1.0</td>\n",
       "      <td>370.00</td>\n",
       "      <td>374.50</td>\n",
       "      <td>366.31</td>\n",
       "      <td>372.31</td>\n",
       "      <td>2965500.0</td>\n",
       "    </tr>\n",
       "  </tbody>\n",
       "</table>"
      ],
      "text/plain": [
       "<IPython.core.display.HTML object>"
      ]
     },
     "metadata": {},
     "output_type": "display_data"
    }
   ],
   "source": [
    "amazon = get_stock_data(\"AMZN\", 60)\n",
    "display(HTML(amazon.head().to_html()))"
   ]
  },
  {
   "cell_type": "markdown",
   "metadata": {},
   "source": [
    "Let’s take a look at the columns :<br>\n",
    "<b>Open</b> is the price of the stock at the beginning of the trading day (it need not be the closing price of the previous trading day)<br>\n",
    "<b>High</b> is the highest price of the stock on that trading day.<br>\n",
    "<b>Low</b> is the lowest price of the stock on that trading day.<br>\n",
    "<b>Close</b>is the price of the stock at closing time.<br>\n",
    "<b>Volume</b> indicates how many stocks were traded.<br>\n",
    "<br>Adjusted prices (such as the adjusted close) is the price of the stock that adjusts the price for corporate actions. While stock prices are considered to be set mostly by traders, stock splits (when the company makes each extant stock worth two and halves the price) and dividends (payout of company profits per share) also affect the price of a stock and should be accounted for."
   ]
  },
  {
   "cell_type": "markdown",
   "metadata": {},
   "source": [
    "Lets take a look at the data we extracted"
   ]
  },
  {
   "cell_type": "markdown",
   "metadata": {},
   "source": [
    "A. Apple"
   ]
  },
  {
   "cell_type": "code",
   "execution_count": 74,
   "metadata": {},
   "outputs": [
    {
     "name": "stdout",
     "output_type": "stream",
     "text": [
      "<class 'pandas.core.frame.DataFrame'>\n",
      "DatetimeIndex: 1094 entries, 2013-11-18 to 2018-03-27\n",
      "Data columns (total 12 columns):\n",
      "Open           1094 non-null float64\n",
      "High           1094 non-null float64\n",
      "Low            1094 non-null float64\n",
      "Close          1094 non-null float64\n",
      "Volume         1094 non-null float64\n",
      "Ex-Dividend    1094 non-null float64\n",
      "Split Ratio    1094 non-null float64\n",
      "Adj. Open      1094 non-null float64\n",
      "Adj. High      1094 non-null float64\n",
      "Adj. Low       1094 non-null float64\n",
      "Adj. Close     1094 non-null float64\n",
      "Adj. Volume    1094 non-null float64\n",
      "dtypes: float64(12)\n",
      "memory usage: 111.1 KB\n",
      "\n",
      "<class 'pandas.core.frame.DataFrame'>\n",
      "DatetimeIndex: 1094 entries, 2013-11-18 to 2018-03-27\n",
      "Data columns (total 12 columns):\n",
      "Open           1094 non-null float64\n",
      "High           1094 non-null float64\n",
      "Low            1094 non-null float64\n",
      "Close          1094 non-null float64\n",
      "Volume         1094 non-null float64\n",
      "Ex-Dividend    1094 non-null float64\n",
      "Split Ratio    1094 non-null float64\n",
      "Adj. Open      1094 non-null float64\n",
      "Adj. High      1094 non-null float64\n",
      "Adj. Low       1094 non-null float64\n",
      "Adj. Close     1094 non-null float64\n",
      "Adj. Volume    1094 non-null float64\n",
      "dtypes: float64(12)\n",
      "memory usage: 111.1 KB\n",
      "\n",
      "<class 'pandas.core.frame.DataFrame'>\n",
      "DatetimeIndex: 1095 entries, 2013-11-18 to 2018-03-27\n",
      "Data columns (total 12 columns):\n",
      "Open           1095 non-null float64\n",
      "High           1095 non-null float64\n",
      "Low            1095 non-null float64\n",
      "Close          1095 non-null float64\n",
      "Volume         1095 non-null float64\n",
      "Ex-Dividend    1095 non-null float64\n",
      "Split Ratio    1095 non-null float64\n",
      "Adj. Open      1095 non-null float64\n",
      "Adj. High      1095 non-null float64\n",
      "Adj. Low       1095 non-null float64\n",
      "Adj. Close     1095 non-null float64\n",
      "Adj. Volume    1095 non-null float64\n",
      "dtypes: float64(12)\n",
      "memory usage: 111.2 KB\n",
      "\n",
      "<class 'pandas.core.frame.DataFrame'>\n",
      "DatetimeIndex: 1094 entries, 2013-11-18 to 2018-03-27\n",
      "Data columns (total 12 columns):\n",
      "Open           1094 non-null float64\n",
      "High           1094 non-null float64\n",
      "Low            1094 non-null float64\n",
      "Close          1094 non-null float64\n",
      "Volume         1094 non-null float64\n",
      "Ex-Dividend    1094 non-null float64\n",
      "Split Ratio    1094 non-null float64\n",
      "Adj. Open      1094 non-null float64\n",
      "Adj. High      1094 non-null float64\n",
      "Adj. Low       1094 non-null float64\n",
      "Adj. Close     1094 non-null float64\n",
      "Adj. Volume    1094 non-null float64\n",
      "dtypes: float64(12)\n",
      "memory usage: 111.1 KB\n"
     ]
    }
   ],
   "source": [
    "apple.info()\n",
    "print()\n",
    "intel.info()\n",
    "print()\n",
    "ebay.info()\n",
    "print()\n",
    "amazon.info()"
   ]
  },
  {
   "cell_type": "markdown",
   "metadata": {},
   "source": [
    "Clearly there are no columns with null values. "
   ]
  },
  {
   "cell_type": "markdown",
   "metadata": {},
   "source": [
    "We are interested only in the adjusted close prices, so lets drop the other columns"
   ]
  },
  {
   "cell_type": "code",
   "execution_count": 75,
   "metadata": {},
   "outputs": [
    {
     "name": "stdout",
     "output_type": "stream",
     "text": [
      "Apple\n"
     ]
    },
    {
     "data": {
      "text/html": [
       "<table border=\"1\" class=\"dataframe\">\n",
       "  <thead>\n",
       "    <tr style=\"text-align: right;\">\n",
       "      <th></th>\n",
       "      <th>Adj. Close</th>\n",
       "    </tr>\n",
       "    <tr>\n",
       "      <th>Date</th>\n",
       "      <th></th>\n",
       "    </tr>\n",
       "  </thead>\n",
       "  <tbody>\n",
       "    <tr>\n",
       "      <th>2013-11-18</th>\n",
       "      <td>68.937464</td>\n",
       "    </tr>\n",
       "    <tr>\n",
       "      <th>2013-11-19</th>\n",
       "      <td>69.059886</td>\n",
       "    </tr>\n",
       "    <tr>\n",
       "      <th>2013-11-20</th>\n",
       "      <td>68.455088</td>\n",
       "    </tr>\n",
       "    <tr>\n",
       "      <th>2013-11-21</th>\n",
       "      <td>69.270701</td>\n",
       "    </tr>\n",
       "    <tr>\n",
       "      <th>2013-11-22</th>\n",
       "      <td>69.093116</td>\n",
       "    </tr>\n",
       "  </tbody>\n",
       "</table>"
      ],
      "text/plain": [
       "<IPython.core.display.HTML object>"
      ]
     },
     "metadata": {},
     "output_type": "display_data"
    },
    {
     "name": "stdout",
     "output_type": "stream",
     "text": [
      "Intel\n"
     ]
    },
    {
     "data": {
      "text/html": [
       "<table border=\"1\" class=\"dataframe\">\n",
       "  <thead>\n",
       "    <tr style=\"text-align: right;\">\n",
       "      <th></th>\n",
       "      <th>Adj. Close</th>\n",
       "    </tr>\n",
       "    <tr>\n",
       "      <th>Date</th>\n",
       "      <th></th>\n",
       "    </tr>\n",
       "  </thead>\n",
       "  <tbody>\n",
       "    <tr>\n",
       "      <th>2013-11-18</th>\n",
       "      <td>21.655930</td>\n",
       "    </tr>\n",
       "    <tr>\n",
       "      <th>2013-11-19</th>\n",
       "      <td>21.743962</td>\n",
       "    </tr>\n",
       "    <tr>\n",
       "      <th>2013-11-20</th>\n",
       "      <td>21.620717</td>\n",
       "    </tr>\n",
       "    <tr>\n",
       "      <th>2013-11-21</th>\n",
       "      <td>22.210533</td>\n",
       "    </tr>\n",
       "    <tr>\n",
       "      <th>2013-11-22</th>\n",
       "      <td>21.013294</td>\n",
       "    </tr>\n",
       "  </tbody>\n",
       "</table>"
      ],
      "text/plain": [
       "<IPython.core.display.HTML object>"
      ]
     },
     "metadata": {},
     "output_type": "display_data"
    },
    {
     "name": "stdout",
     "output_type": "stream",
     "text": [
      "EBay\n"
     ]
    },
    {
     "data": {
      "text/html": [
       "<table border=\"1\" class=\"dataframe\">\n",
       "  <thead>\n",
       "    <tr style=\"text-align: right;\">\n",
       "      <th></th>\n",
       "      <th>Adj. Close</th>\n",
       "    </tr>\n",
       "    <tr>\n",
       "      <th>Date</th>\n",
       "      <th></th>\n",
       "    </tr>\n",
       "  </thead>\n",
       "  <tbody>\n",
       "    <tr>\n",
       "      <th>2013-11-18</th>\n",
       "      <td>20.489118</td>\n",
       "    </tr>\n",
       "    <tr>\n",
       "      <th>2013-11-19</th>\n",
       "      <td>20.508789</td>\n",
       "    </tr>\n",
       "    <tr>\n",
       "      <th>2013-11-20</th>\n",
       "      <td>19.824244</td>\n",
       "    </tr>\n",
       "    <tr>\n",
       "      <th>2013-11-21</th>\n",
       "      <td>19.753429</td>\n",
       "    </tr>\n",
       "    <tr>\n",
       "      <th>2013-11-22</th>\n",
       "      <td>19.800639</td>\n",
       "    </tr>\n",
       "  </tbody>\n",
       "</table>"
      ],
      "text/plain": [
       "<IPython.core.display.HTML object>"
      ]
     },
     "metadata": {},
     "output_type": "display_data"
    },
    {
     "name": "stdout",
     "output_type": "stream",
     "text": [
      "Amazon\n"
     ]
    },
    {
     "data": {
      "text/html": [
       "<table border=\"1\" class=\"dataframe\">\n",
       "  <thead>\n",
       "    <tr style=\"text-align: right;\">\n",
       "      <th></th>\n",
       "      <th>Adj. Close</th>\n",
       "    </tr>\n",
       "    <tr>\n",
       "      <th>Date</th>\n",
       "      <th></th>\n",
       "    </tr>\n",
       "  </thead>\n",
       "  <tbody>\n",
       "    <tr>\n",
       "      <th>2013-11-18</th>\n",
       "      <td>366.18</td>\n",
       "    </tr>\n",
       "    <tr>\n",
       "      <th>2013-11-19</th>\n",
       "      <td>364.94</td>\n",
       "    </tr>\n",
       "    <tr>\n",
       "      <th>2013-11-20</th>\n",
       "      <td>362.57</td>\n",
       "    </tr>\n",
       "    <tr>\n",
       "      <th>2013-11-21</th>\n",
       "      <td>368.92</td>\n",
       "    </tr>\n",
       "    <tr>\n",
       "      <th>2013-11-22</th>\n",
       "      <td>372.31</td>\n",
       "    </tr>\n",
       "  </tbody>\n",
       "</table>"
      ],
      "text/plain": [
       "<IPython.core.display.HTML object>"
      ]
     },
     "metadata": {},
     "output_type": "display_data"
    }
   ],
   "source": [
    "print(\"Apple\")\n",
    "apple = apple.drop(['Open','High','Low','Close','Volume','Ex-Dividend','Split Ratio','Adj. Open','Adj. High','Adj. Low','Adj. Volume'], axis=1)\n",
    "display(HTML(apple.head().to_html()))\n",
    "\n",
    "print(\"Intel\")\n",
    "intel = intel.drop(['Open','High','Low','Close','Volume','Ex-Dividend','Split Ratio','Adj. Open','Adj. High','Adj. Low','Adj. Volume'], axis=1)\n",
    "display(HTML(intel.head().to_html()))\n",
    "\n",
    "print(\"EBay\")\n",
    "ebay = ebay.drop(['Open','High','Low','Close','Volume','Ex-Dividend','Split Ratio','Adj. Open','Adj. High','Adj. Low','Adj. Volume'], axis=1)\n",
    "display(HTML(ebay.head().to_html()))\n",
    "\n",
    "print(\"Amazon\")\n",
    "amazon = amazon.drop(['Open','High','Low','Close','Volume','Ex-Dividend','Split Ratio','Adj. Open','Adj. High','Adj. Low','Adj. Volume'], axis=1)\n",
    "display(HTML(amazon.head().to_html()))"
   ]
  },
  {
   "cell_type": "markdown",
   "metadata": {},
   "source": [
    "Lets look at a visual representation of the data as well"
   ]
  },
  {
   "cell_type": "code",
   "execution_count": 78,
   "metadata": {},
   "outputs": [
    {
     "data": {
      "text/html": [
       "<table border=\"1\" class=\"dataframe\">\n",
       "  <thead>\n",
       "    <tr style=\"text-align: right;\">\n",
       "      <th></th>\n",
       "      <th>Apple</th>\n",
       "      <th>Intel</th>\n",
       "      <th>Amazon</th>\n",
       "      <th>EBay</th>\n",
       "    </tr>\n",
       "    <tr>\n",
       "      <th>Date</th>\n",
       "      <th></th>\n",
       "      <th></th>\n",
       "      <th></th>\n",
       "      <th></th>\n",
       "    </tr>\n",
       "  </thead>\n",
       "  <tbody>\n",
       "    <tr>\n",
       "      <th>2013-11-18</th>\n",
       "      <td>68.937464</td>\n",
       "      <td>21.655930</td>\n",
       "      <td>366.18</td>\n",
       "      <td>20.489118</td>\n",
       "    </tr>\n",
       "    <tr>\n",
       "      <th>2013-11-19</th>\n",
       "      <td>69.059886</td>\n",
       "      <td>21.743962</td>\n",
       "      <td>364.94</td>\n",
       "      <td>20.508789</td>\n",
       "    </tr>\n",
       "    <tr>\n",
       "      <th>2013-11-20</th>\n",
       "      <td>68.455088</td>\n",
       "      <td>21.620717</td>\n",
       "      <td>362.57</td>\n",
       "      <td>19.824244</td>\n",
       "    </tr>\n",
       "    <tr>\n",
       "      <th>2013-11-21</th>\n",
       "      <td>69.270701</td>\n",
       "      <td>22.210533</td>\n",
       "      <td>368.92</td>\n",
       "      <td>19.753429</td>\n",
       "    </tr>\n",
       "    <tr>\n",
       "      <th>2013-11-22</th>\n",
       "      <td>69.093116</td>\n",
       "      <td>21.013294</td>\n",
       "      <td>372.31</td>\n",
       "      <td>19.800639</td>\n",
       "    </tr>\n",
       "  </tbody>\n",
       "</table>"
      ],
      "text/plain": [
       "<IPython.core.display.HTML object>"
      ]
     },
     "metadata": {},
     "output_type": "display_data"
    },
    {
     "data": {
      "text/plain": [
       "<Figure size 1080x648 with 0 Axes>"
      ]
     },
     "metadata": {},
     "output_type": "display_data"
    },
    {
     "data": {
      "image/png": "[encoded data removed]",
      "text/plain": [
       "<Figure size 1080x648 with 1 Axes>"
      ]
     },
     "metadata": {},
     "output_type": "display_data"
    }
   ],
   "source": [
    "tech_stocks = pd.DataFrame({\"Apple\": apple[\"Adj. Close\"],\n",
    "                      \"Intel\": intel[\"Adj. Close\"],\n",
    "                      \"Amazon\": amazon[\"Adj. Close\"],\n",
    "                      \"EBay\": ebay[\"Adj. Close\"]\n",
    "                      })\n",
    "display(HTML(tech_stocks.head().to_html()))\n",
    "\n",
    "plt.cla()\n",
    "plt.clf()\n",
    "\n",
    "colors = ['red','green','orange','black']\n",
    "\n",
    "tech_stocks.plot(grid=True, color=colors)\n",
    "plt.title(\"Adjusted Closing Prices of Tech stocks\")\n",
    "plt.show()"
   ]
  },
  {
   "cell_type": "markdown",
   "metadata": {},
   "source": [
    "<b>Step 2 : </b> Select the adjusted monthend close price for each of the stocks."
   ]
  },
  {
   "cell_type": "code",
   "execution_count": 80,
   "metadata": {},
   "outputs": [],
   "source": [
    "def get_adjusted_monthend_data(df):\n",
    "    df = df.groupby(pd.Grouper('M'))\n",
    "    "
   ]
  },
  {
   "cell_type": "code",
   "execution_count": 22,
   "metadata": {},
   "outputs": [
    {
     "ename": "AttributeError",
     "evalue": "'NoneType' object has no attribute 'groupby'",
     "output_type": "error",
     "traceback": [
      "\u001b[1;31m---------------------------------------------------------------------------\u001b[0m",
      "\u001b[1;31mAttributeError\u001b[0m                            Traceback (most recent call last)",
      "\u001b[1;32m<ipython-input-22-aacbf1e3f7cf>\u001b[0m in \u001b[0;36m<module>\u001b[1;34m()\u001b[0m\n\u001b[1;32m----> 1\u001b[1;33m \u001b[0mapple\u001b[0m \u001b[1;33m=\u001b[0m \u001b[0mget_adjusted_monthend_data\u001b[0m\u001b[1;33m(\u001b[0m\u001b[0mapple\u001b[0m\u001b[1;33m)\u001b[0m\u001b[1;33m\u001b[0m\u001b[0m\n\u001b[0m",
      "\u001b[1;32m<ipython-input-21-c71f79a83153>\u001b[0m in \u001b[0;36mget_adjusted_monthend_data\u001b[1;34m(df)\u001b[0m\n\u001b[0;32m      1\u001b[0m \u001b[1;32mdef\u001b[0m \u001b[0mget_adjusted_monthend_data\u001b[0m\u001b[1;33m(\u001b[0m\u001b[0mdf\u001b[0m\u001b[1;33m)\u001b[0m\u001b[1;33m:\u001b[0m\u001b[1;33m\u001b[0m\u001b[0m\n\u001b[1;32m----> 2\u001b[1;33m     \u001b[0mdf\u001b[0m \u001b[1;33m=\u001b[0m \u001b[0mdf\u001b[0m\u001b[1;33m.\u001b[0m\u001b[0mgroupby\u001b[0m\u001b[1;33m(\u001b[0m\u001b[0mpd\u001b[0m\u001b[1;33m.\u001b[0m\u001b[0mGrouper\u001b[0m\u001b[1;33m(\u001b[0m\u001b[0mfreq\u001b[0m\u001b[1;33m=\u001b[0m\u001b[1;34m'M'\u001b[0m\u001b[1;33m)\u001b[0m\u001b[1;33m)\u001b[0m\u001b[1;33m.\u001b[0m\u001b[0mfillna\u001b[0m\u001b[1;33m(\u001b[0m\u001b[0mmethod\u001b[0m\u001b[1;33m=\u001b[0m\u001b[1;34m'ffill'\u001b[0m\u001b[1;33m)\u001b[0m\u001b[1;33m\u001b[0m\u001b[0m\n\u001b[0m\u001b[0;32m      3\u001b[0m     \u001b[0mdf\u001b[0m \u001b[1;33m=\u001b[0m \u001b[0mdf\u001b[0m\u001b[1;33m.\u001b[0m\u001b[0mresample\u001b[0m\u001b[1;33m(\u001b[0m\u001b[1;34m'M'\u001b[0m\u001b[1;33m)\u001b[0m\u001b[1;33m.\u001b[0m\u001b[0mlast\u001b[0m\u001b[1;33m(\u001b[0m\u001b[1;33m)\u001b[0m\u001b[1;33m\u001b[0m\u001b[0m\n",
      "\u001b[1;31mAttributeError\u001b[0m: 'NoneType' object has no attribute 'groupby'"
     ]
    }
   ],
   "source": []
  },
  {
   "cell_type": "code",
   "execution_count": null,
   "metadata": {},
   "outputs": [],
   "source": []
  }
 ],
 "metadata": {
  "kernelspec": {
   "display_name": "Python 3",
   "language": "python",
   "name": "python3"
  },
  "language_info": {
   "codemirror_mode": {
    "name": "ipython",
    "version": 3
   },
   "file_extension": ".py",
   "mimetype": "text/x-python",
   "name": "python",
   "nbconvert_exporter": "python",
   "pygments_lexer": "ipython3",
   "version": "3.6.5"
  }
 },
 "nbformat": 4,
 "nbformat_minor": 2
}

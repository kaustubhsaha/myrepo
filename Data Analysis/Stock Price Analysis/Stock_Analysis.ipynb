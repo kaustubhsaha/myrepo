{
 "cells": [
  {
   "cell_type": "markdown",
   "metadata": {},
   "source": [
    "## Assignment 3 - Time Series\n",
    "\n",
    "1. Download the adjusted close price for AAPL, INTC, EBAY and AMZN for the last 60 months\n",
    "2. Select the adjusted monthend close price for each of the stocks.\n",
    "3. Use pandas autocorrelation_plot() function to plot the autocorrelation of the monthend close prices of each of the stocks.  <i>Are they autocorrelated?  Why or why not?</i>\n",
    "4. Calculate the monthly return over the period for each stock using the “shift trick” on the lecture slide titled Shifting (Note: you should end up with a time series 59 months long)\n",
    "5. Plot the autocorrelation of the monthly returns.  <i>Are they autocorrelated?  Why or why not?</i>\n",
    "6. <i>OPTIONAL: Visualize the correlation between the returns of all pairs of stocks using a scatterplot matrix (1 bonus mark)</i>\n",
    "7. <i>OPTIONAL: Following the instructions in the article \"The Glowing Python\"  visualize the correlation of the returns of all pairs of stocks (2 bonus marks)</i>"
   ]
  },
  {
   "cell_type": "code",
   "execution_count": 4,
   "metadata": {},
   "outputs": [],
   "source": [
    "# the usual boilerplate stuff\n",
    "\n",
    "import pandas as pd\n",
    "import numpy as np\n",
    "import matplotlib.pyplot as plt\n",
    "import seaborn as sns\n",
    "import pandas_datareader.data as web\n",
    "import quandl\n",
    "from pandas import plotting\n",
    "from pandas.tseries.offsets import *\n",
    "\n",
    "quandl.ApiConfig.api_key = 'j1rPJCD2sDK9zg-JE18D'\n",
    "\n",
    "from dateutil.relativedelta import relativedelta\n",
    "from datetime import datetime\n",
    "\n",
    "from IPython.display import HTML, display\n",
    "\n",
    "\n",
    "plt.ioff()\n"
   ]
  },
  {
   "cell_type": "markdown",
   "metadata": {},
   "source": [
    "<b>Step 1 :</b> Download the adjusted close price for AAPL, INTC, EBAY and AMZN for the last 60 months"
   ]
  },
  {
   "cell_type": "code",
   "execution_count": 5,
   "metadata": {},
   "outputs": [],
   "source": [
    "MONTH_COUNT = 60\n",
    "\n",
    "def get_end_date():\n",
    "    dt = datetime.today()\n",
    "    dt = datetime.strptime(dt.strftime('%Y-%m-%d'),'%Y-%m-%d')\n",
    "    return dt;\n",
    "\n",
    "def get_start_date():\n",
    "    MONTH_COUNT\n",
    "    dt = get_end_date() - relativedelta(months=MONTH_COUNT)\n",
    "    return dt;\n",
    "\n",
    "    \n",
    "def get_stock_data(stk, month_count):\n",
    "    end = get_end_date()\n",
    "    start = get_start_date()\n",
    "    \n",
    "    print(\"Returning \",stk,\"data for Start and End dates : \", start, end)\n",
    "    data = quandl.get(\"WIKI/\" + stk, start_date=start, end_date=end)\n",
    "    return data\n"
   ]
  },
  {
   "cell_type": "markdown",
   "metadata": {},
   "source": [
    "Get data for AAPL (Apple)"
   ]
  },
  {
   "cell_type": "code",
   "execution_count": 6,
   "metadata": {},
   "outputs": [
    {
     "name": "stdout",
     "output_type": "stream",
     "text": [
      "Returning  AAPL data for Start and End dates :  2013-11-17 00:00:00 2018-11-17 00:00:00\n"
     ]
    },
    {
     "data": {
      "text/html": [
       "<table border=\"1\" class=\"dataframe\">\n",
       "  <thead>\n",
       "    <tr style=\"text-align: right;\">\n",
       "      <th></th>\n",
       "      <th>Open</th>\n",
       "      <th>High</th>\n",
       "      <th>Low</th>\n",
       "      <th>Close</th>\n",
       "      <th>Volume</th>\n",
       "      <th>Ex-Dividend</th>\n",
       "      <th>Split Ratio</th>\n",
       "      <th>Adj. Open</th>\n",
       "      <th>Adj. High</th>\n",
       "      <th>Adj. Low</th>\n",
       "      <th>Adj. Close</th>\n",
       "      <th>Adj. Volume</th>\n",
       "    </tr>\n",
       "    <tr>\n",
       "      <th>Date</th>\n",
       "      <th></th>\n",
       "      <th></th>\n",
       "      <th></th>\n",
       "      <th></th>\n",
       "      <th></th>\n",
       "      <th></th>\n",
       "      <th></th>\n",
       "      <th></th>\n",
       "      <th></th>\n",
       "      <th></th>\n",
       "      <th></th>\n",
       "      <th></th>\n",
       "    </tr>\n",
       "  </thead>\n",
       "  <tbody>\n",
       "    <tr>\n",
       "      <th>2018-03-21</th>\n",
       "      <td>175.04</td>\n",
       "      <td>175.09</td>\n",
       "      <td>171.26</td>\n",
       "      <td>171.270</td>\n",
       "      <td>35247358.0</td>\n",
       "      <td>0.0</td>\n",
       "      <td>1.0</td>\n",
       "      <td>175.04</td>\n",
       "      <td>175.09</td>\n",
       "      <td>171.26</td>\n",
       "      <td>171.270</td>\n",
       "      <td>35247358.0</td>\n",
       "    </tr>\n",
       "    <tr>\n",
       "      <th>2018-03-22</th>\n",
       "      <td>170.00</td>\n",
       "      <td>172.68</td>\n",
       "      <td>168.60</td>\n",
       "      <td>168.845</td>\n",
       "      <td>41051076.0</td>\n",
       "      <td>0.0</td>\n",
       "      <td>1.0</td>\n",
       "      <td>170.00</td>\n",
       "      <td>172.68</td>\n",
       "      <td>168.60</td>\n",
       "      <td>168.845</td>\n",
       "      <td>41051076.0</td>\n",
       "    </tr>\n",
       "    <tr>\n",
       "      <th>2018-03-23</th>\n",
       "      <td>168.39</td>\n",
       "      <td>169.92</td>\n",
       "      <td>164.94</td>\n",
       "      <td>164.940</td>\n",
       "      <td>40248954.0</td>\n",
       "      <td>0.0</td>\n",
       "      <td>1.0</td>\n",
       "      <td>168.39</td>\n",
       "      <td>169.92</td>\n",
       "      <td>164.94</td>\n",
       "      <td>164.940</td>\n",
       "      <td>40248954.0</td>\n",
       "    </tr>\n",
       "    <tr>\n",
       "      <th>2018-03-26</th>\n",
       "      <td>168.07</td>\n",
       "      <td>173.10</td>\n",
       "      <td>166.44</td>\n",
       "      <td>172.770</td>\n",
       "      <td>36272617.0</td>\n",
       "      <td>0.0</td>\n",
       "      <td>1.0</td>\n",
       "      <td>168.07</td>\n",
       "      <td>173.10</td>\n",
       "      <td>166.44</td>\n",
       "      <td>172.770</td>\n",
       "      <td>36272617.0</td>\n",
       "    </tr>\n",
       "    <tr>\n",
       "      <th>2018-03-27</th>\n",
       "      <td>173.68</td>\n",
       "      <td>175.15</td>\n",
       "      <td>166.92</td>\n",
       "      <td>168.340</td>\n",
       "      <td>38962839.0</td>\n",
       "      <td>0.0</td>\n",
       "      <td>1.0</td>\n",
       "      <td>173.68</td>\n",
       "      <td>175.15</td>\n",
       "      <td>166.92</td>\n",
       "      <td>168.340</td>\n",
       "      <td>38962839.0</td>\n",
       "    </tr>\n",
       "  </tbody>\n",
       "</table>"
      ],
      "text/plain": [
       "<IPython.core.display.HTML object>"
      ]
     },
     "metadata": {},
     "output_type": "display_data"
    }
   ],
   "source": [
    "apple = get_stock_data(\"AAPL\", 60)\n",
    "display(HTML(apple.tail().to_html()))"
   ]
  },
  {
   "cell_type": "markdown",
   "metadata": {},
   "source": [
    "Get data for Intel (INTC)"
   ]
  },
  {
   "cell_type": "code",
   "execution_count": 7,
   "metadata": {},
   "outputs": [
    {
     "name": "stdout",
     "output_type": "stream",
     "text": [
      "Returning  INTC data for Start and End dates :  2013-11-17 00:00:00 2018-11-17 00:00:00\n"
     ]
    },
    {
     "data": {
      "text/html": [
       "<table border=\"1\" class=\"dataframe\">\n",
       "  <thead>\n",
       "    <tr style=\"text-align: right;\">\n",
       "      <th></th>\n",
       "      <th>Open</th>\n",
       "      <th>High</th>\n",
       "      <th>Low</th>\n",
       "      <th>Close</th>\n",
       "      <th>Volume</th>\n",
       "      <th>Ex-Dividend</th>\n",
       "      <th>Split Ratio</th>\n",
       "      <th>Adj. Open</th>\n",
       "      <th>Adj. High</th>\n",
       "      <th>Adj. Low</th>\n",
       "      <th>Adj. Close</th>\n",
       "      <th>Adj. Volume</th>\n",
       "    </tr>\n",
       "    <tr>\n",
       "      <th>Date</th>\n",
       "      <th></th>\n",
       "      <th></th>\n",
       "      <th></th>\n",
       "      <th></th>\n",
       "      <th></th>\n",
       "      <th></th>\n",
       "      <th></th>\n",
       "      <th></th>\n",
       "      <th></th>\n",
       "      <th></th>\n",
       "      <th></th>\n",
       "      <th></th>\n",
       "    </tr>\n",
       "  </thead>\n",
       "  <tbody>\n",
       "    <tr>\n",
       "      <th>2013-11-18</th>\n",
       "      <td>24.61</td>\n",
       "      <td>24.70</td>\n",
       "      <td>24.48</td>\n",
       "      <td>24.60</td>\n",
       "      <td>24712500.0</td>\n",
       "      <td>0.0</td>\n",
       "      <td>1.0</td>\n",
       "      <td>21.664733</td>\n",
       "      <td>21.743962</td>\n",
       "      <td>21.550291</td>\n",
       "      <td>21.655930</td>\n",
       "      <td>24712500.0</td>\n",
       "    </tr>\n",
       "    <tr>\n",
       "      <th>2013-11-19</th>\n",
       "      <td>24.74</td>\n",
       "      <td>24.87</td>\n",
       "      <td>24.61</td>\n",
       "      <td>24.70</td>\n",
       "      <td>24870200.0</td>\n",
       "      <td>0.0</td>\n",
       "      <td>1.0</td>\n",
       "      <td>21.779175</td>\n",
       "      <td>21.893617</td>\n",
       "      <td>21.664733</td>\n",
       "      <td>21.743962</td>\n",
       "      <td>24870200.0</td>\n",
       "    </tr>\n",
       "    <tr>\n",
       "      <th>2013-11-20</th>\n",
       "      <td>24.70</td>\n",
       "      <td>24.82</td>\n",
       "      <td>24.46</td>\n",
       "      <td>24.56</td>\n",
       "      <td>20288600.0</td>\n",
       "      <td>0.0</td>\n",
       "      <td>1.0</td>\n",
       "      <td>21.743962</td>\n",
       "      <td>21.849600</td>\n",
       "      <td>21.532684</td>\n",
       "      <td>21.620717</td>\n",
       "      <td>20288600.0</td>\n",
       "    </tr>\n",
       "    <tr>\n",
       "      <th>2013-11-21</th>\n",
       "      <td>24.61</td>\n",
       "      <td>25.29</td>\n",
       "      <td>24.52</td>\n",
       "      <td>25.23</td>\n",
       "      <td>44050600.0</td>\n",
       "      <td>0.0</td>\n",
       "      <td>1.0</td>\n",
       "      <td>21.664733</td>\n",
       "      <td>22.263352</td>\n",
       "      <td>21.585504</td>\n",
       "      <td>22.210533</td>\n",
       "      <td>44050600.0</td>\n",
       "    </tr>\n",
       "    <tr>\n",
       "      <th>2013-11-22</th>\n",
       "      <td>24.50</td>\n",
       "      <td>24.51</td>\n",
       "      <td>23.84</td>\n",
       "      <td>23.87</td>\n",
       "      <td>77908100.0</td>\n",
       "      <td>0.0</td>\n",
       "      <td>1.0</td>\n",
       "      <td>21.567897</td>\n",
       "      <td>21.576701</td>\n",
       "      <td>20.986885</td>\n",
       "      <td>21.013294</td>\n",
       "      <td>77908100.0</td>\n",
       "    </tr>\n",
       "  </tbody>\n",
       "</table>"
      ],
      "text/plain": [
       "<IPython.core.display.HTML object>"
      ]
     },
     "metadata": {},
     "output_type": "display_data"
    }
   ],
   "source": [
    "intel = get_stock_data(\"INTC\", 60)\n",
    "display(HTML(intel.head().to_html()))"
   ]
  },
  {
   "cell_type": "markdown",
   "metadata": {},
   "source": [
    "Get data for EBay (EBAY)"
   ]
  },
  {
   "cell_type": "code",
   "execution_count": 8,
   "metadata": {},
   "outputs": [
    {
     "name": "stdout",
     "output_type": "stream",
     "text": [
      "Returning  EBAY data for Start and End dates :  2013-11-17 00:00:00 2018-11-17 00:00:00\n"
     ]
    },
    {
     "data": {
      "text/html": [
       "<table border=\"1\" class=\"dataframe\">\n",
       "  <thead>\n",
       "    <tr style=\"text-align: right;\">\n",
       "      <th></th>\n",
       "      <th>Open</th>\n",
       "      <th>High</th>\n",
       "      <th>Low</th>\n",
       "      <th>Close</th>\n",
       "      <th>Volume</th>\n",
       "      <th>Ex-Dividend</th>\n",
       "      <th>Split Ratio</th>\n",
       "      <th>Adj. Open</th>\n",
       "      <th>Adj. High</th>\n",
       "      <th>Adj. Low</th>\n",
       "      <th>Adj. Close</th>\n",
       "      <th>Adj. Volume</th>\n",
       "    </tr>\n",
       "    <tr>\n",
       "      <th>Date</th>\n",
       "      <th></th>\n",
       "      <th></th>\n",
       "      <th></th>\n",
       "      <th></th>\n",
       "      <th></th>\n",
       "      <th></th>\n",
       "      <th></th>\n",
       "      <th></th>\n",
       "      <th></th>\n",
       "      <th></th>\n",
       "      <th></th>\n",
       "      <th></th>\n",
       "    </tr>\n",
       "  </thead>\n",
       "  <tbody>\n",
       "    <tr>\n",
       "      <th>2013-11-18</th>\n",
       "      <td>52.33</td>\n",
       "      <td>52.69</td>\n",
       "      <td>51.73</td>\n",
       "      <td>52.08</td>\n",
       "      <td>12753900.0</td>\n",
       "      <td>0.0</td>\n",
       "      <td>1.0</td>\n",
       "      <td>20.587472</td>\n",
       "      <td>20.729102</td>\n",
       "      <td>20.351422</td>\n",
       "      <td>20.489118</td>\n",
       "      <td>12753900.0</td>\n",
       "    </tr>\n",
       "    <tr>\n",
       "      <th>2013-11-19</th>\n",
       "      <td>52.43</td>\n",
       "      <td>52.50</td>\n",
       "      <td>51.94</td>\n",
       "      <td>52.13</td>\n",
       "      <td>10263300.0</td>\n",
       "      <td>0.0</td>\n",
       "      <td>1.0</td>\n",
       "      <td>20.626813</td>\n",
       "      <td>20.654353</td>\n",
       "      <td>20.434040</td>\n",
       "      <td>20.508789</td>\n",
       "      <td>10263300.0</td>\n",
       "    </tr>\n",
       "    <tr>\n",
       "      <th>2013-11-20</th>\n",
       "      <td>52.48</td>\n",
       "      <td>52.50</td>\n",
       "      <td>49.86</td>\n",
       "      <td>50.39</td>\n",
       "      <td>34262800.0</td>\n",
       "      <td>0.0</td>\n",
       "      <td>1.0</td>\n",
       "      <td>20.646484</td>\n",
       "      <td>20.654353</td>\n",
       "      <td>19.615734</td>\n",
       "      <td>19.824244</td>\n",
       "      <td>34262800.0</td>\n",
       "    </tr>\n",
       "    <tr>\n",
       "      <th>2013-11-21</th>\n",
       "      <td>50.77</td>\n",
       "      <td>50.80</td>\n",
       "      <td>49.93</td>\n",
       "      <td>50.21</td>\n",
       "      <td>17609600.0</td>\n",
       "      <td>0.0</td>\n",
       "      <td>1.0</td>\n",
       "      <td>19.973743</td>\n",
       "      <td>19.985545</td>\n",
       "      <td>19.643273</td>\n",
       "      <td>19.753429</td>\n",
       "      <td>17609600.0</td>\n",
       "    </tr>\n",
       "    <tr>\n",
       "      <th>2013-11-22</th>\n",
       "      <td>50.27</td>\n",
       "      <td>50.52</td>\n",
       "      <td>50.18</td>\n",
       "      <td>50.33</td>\n",
       "      <td>13715700.0</td>\n",
       "      <td>0.0</td>\n",
       "      <td>1.0</td>\n",
       "      <td>19.777034</td>\n",
       "      <td>19.875388</td>\n",
       "      <td>19.741627</td>\n",
       "      <td>19.800639</td>\n",
       "      <td>13715700.0</td>\n",
       "    </tr>\n",
       "  </tbody>\n",
       "</table>"
      ],
      "text/plain": [
       "<IPython.core.display.HTML object>"
      ]
     },
     "metadata": {},
     "output_type": "display_data"
    }
   ],
   "source": [
    "ebay = get_stock_data(\"EBAY\", 60)\n",
    "display(HTML(ebay.head().to_html()))"
   ]
  },
  {
   "cell_type": "markdown",
   "metadata": {},
   "source": [
    "Get data for Amazon (AMZN)"
   ]
  },
  {
   "cell_type": "code",
   "execution_count": 9,
   "metadata": {},
   "outputs": [
    {
     "name": "stdout",
     "output_type": "stream",
     "text": [
      "Returning  AMZN data for Start and End dates :  2013-11-17 00:00:00 2018-11-17 00:00:00\n"
     ]
    },
    {
     "data": {
      "text/html": [
       "<table border=\"1\" class=\"dataframe\">\n",
       "  <thead>\n",
       "    <tr style=\"text-align: right;\">\n",
       "      <th></th>\n",
       "      <th>Open</th>\n",
       "      <th>High</th>\n",
       "      <th>Low</th>\n",
       "      <th>Close</th>\n",
       "      <th>Volume</th>\n",
       "      <th>Ex-Dividend</th>\n",
       "      <th>Split Ratio</th>\n",
       "      <th>Adj. Open</th>\n",
       "      <th>Adj. High</th>\n",
       "      <th>Adj. Low</th>\n",
       "      <th>Adj. Close</th>\n",
       "      <th>Adj. Volume</th>\n",
       "    </tr>\n",
       "    <tr>\n",
       "      <th>Date</th>\n",
       "      <th></th>\n",
       "      <th></th>\n",
       "      <th></th>\n",
       "      <th></th>\n",
       "      <th></th>\n",
       "      <th></th>\n",
       "      <th></th>\n",
       "      <th></th>\n",
       "      <th></th>\n",
       "      <th></th>\n",
       "      <th></th>\n",
       "      <th></th>\n",
       "    </tr>\n",
       "  </thead>\n",
       "  <tbody>\n",
       "    <tr>\n",
       "      <th>2013-11-18</th>\n",
       "      <td>370.28</td>\n",
       "      <td>373.49</td>\n",
       "      <td>364.67</td>\n",
       "      <td>366.18</td>\n",
       "      <td>2737400.0</td>\n",
       "      <td>0.0</td>\n",
       "      <td>1.0</td>\n",
       "      <td>370.28</td>\n",
       "      <td>373.49</td>\n",
       "      <td>364.67</td>\n",
       "      <td>366.18</td>\n",
       "      <td>2737400.0</td>\n",
       "    </tr>\n",
       "    <tr>\n",
       "      <th>2013-11-19</th>\n",
       "      <td>365.82</td>\n",
       "      <td>368.78</td>\n",
       "      <td>362.50</td>\n",
       "      <td>364.94</td>\n",
       "      <td>1904800.0</td>\n",
       "      <td>0.0</td>\n",
       "      <td>1.0</td>\n",
       "      <td>365.82</td>\n",
       "      <td>368.78</td>\n",
       "      <td>362.50</td>\n",
       "      <td>364.94</td>\n",
       "      <td>1904800.0</td>\n",
       "    </tr>\n",
       "    <tr>\n",
       "      <th>2013-11-20</th>\n",
       "      <td>367.56</td>\n",
       "      <td>367.56</td>\n",
       "      <td>360.45</td>\n",
       "      <td>362.57</td>\n",
       "      <td>1771500.0</td>\n",
       "      <td>0.0</td>\n",
       "      <td>1.0</td>\n",
       "      <td>367.56</td>\n",
       "      <td>367.56</td>\n",
       "      <td>360.45</td>\n",
       "      <td>362.57</td>\n",
       "      <td>1771500.0</td>\n",
       "    </tr>\n",
       "    <tr>\n",
       "      <th>2013-11-21</th>\n",
       "      <td>364.05</td>\n",
       "      <td>369.25</td>\n",
       "      <td>363.30</td>\n",
       "      <td>368.92</td>\n",
       "      <td>1964600.0</td>\n",
       "      <td>0.0</td>\n",
       "      <td>1.0</td>\n",
       "      <td>364.05</td>\n",
       "      <td>369.25</td>\n",
       "      <td>363.30</td>\n",
       "      <td>368.92</td>\n",
       "      <td>1964600.0</td>\n",
       "    </tr>\n",
       "    <tr>\n",
       "      <th>2013-11-22</th>\n",
       "      <td>370.00</td>\n",
       "      <td>374.50</td>\n",
       "      <td>366.31</td>\n",
       "      <td>372.31</td>\n",
       "      <td>2965500.0</td>\n",
       "      <td>0.0</td>\n",
       "      <td>1.0</td>\n",
       "      <td>370.00</td>\n",
       "      <td>374.50</td>\n",
       "      <td>366.31</td>\n",
       "      <td>372.31</td>\n",
       "      <td>2965500.0</td>\n",
       "    </tr>\n",
       "  </tbody>\n",
       "</table>"
      ],
      "text/plain": [
       "<IPython.core.display.HTML object>"
      ]
     },
     "metadata": {},
     "output_type": "display_data"
    }
   ],
   "source": [
    "amazon = get_stock_data(\"AMZN\", 60)\n",
    "display(HTML(amazon.head().to_html()))"
   ]
  },
  {
   "cell_type": "markdown",
   "metadata": {},
   "source": [
    "Lets take a look at the data we extracted"
   ]
  },
  {
   "cell_type": "markdown",
   "metadata": {},
   "source": [
    "A. Apple"
   ]
  },
  {
   "cell_type": "code",
   "execution_count": 10,
   "metadata": {},
   "outputs": [
    {
     "name": "stdout",
     "output_type": "stream",
     "text": [
      "<class 'pandas.core.frame.DataFrame'>\n",
      "DatetimeIndex: 1094 entries, 2013-11-18 to 2018-03-27\n",
      "Data columns (total 12 columns):\n",
      "Open           1094 non-null float64\n",
      "High           1094 non-null float64\n",
      "Low            1094 non-null float64\n",
      "Close          1094 non-null float64\n",
      "Volume         1094 non-null float64\n",
      "Ex-Dividend    1094 non-null float64\n",
      "Split Ratio    1094 non-null float64\n",
      "Adj. Open      1094 non-null float64\n",
      "Adj. High      1094 non-null float64\n",
      "Adj. Low       1094 non-null float64\n",
      "Adj. Close     1094 non-null float64\n",
      "Adj. Volume    1094 non-null float64\n",
      "dtypes: float64(12)\n",
      "memory usage: 111.1 KB\n",
      "\n",
      "<class 'pandas.core.frame.DataFrame'>\n",
      "DatetimeIndex: 1094 entries, 2013-11-18 to 2018-03-27\n",
      "Data columns (total 12 columns):\n",
      "Open           1094 non-null float64\n",
      "High           1094 non-null float64\n",
      "Low            1094 non-null float64\n",
      "Close          1094 non-null float64\n",
      "Volume         1094 non-null float64\n",
      "Ex-Dividend    1094 non-null float64\n",
      "Split Ratio    1094 non-null float64\n",
      "Adj. Open      1094 non-null float64\n",
      "Adj. High      1094 non-null float64\n",
      "Adj. Low       1094 non-null float64\n",
      "Adj. Close     1094 non-null float64\n",
      "Adj. Volume    1094 non-null float64\n",
      "dtypes: float64(12)\n",
      "memory usage: 111.1 KB\n",
      "\n",
      "<class 'pandas.core.frame.DataFrame'>\n",
      "DatetimeIndex: 1095 entries, 2013-11-18 to 2018-03-27\n",
      "Data columns (total 12 columns):\n",
      "Open           1095 non-null float64\n",
      "High           1095 non-null float64\n",
      "Low            1095 non-null float64\n",
      "Close          1095 non-null float64\n",
      "Volume         1095 non-null float64\n",
      "Ex-Dividend    1095 non-null float64\n",
      "Split Ratio    1095 non-null float64\n",
      "Adj. Open      1095 non-null float64\n",
      "Adj. High      1095 non-null float64\n",
      "Adj. Low       1095 non-null float64\n",
      "Adj. Close     1095 non-null float64\n",
      "Adj. Volume    1095 non-null float64\n",
      "dtypes: float64(12)\n",
      "memory usage: 111.2 KB\n",
      "\n",
      "<class 'pandas.core.frame.DataFrame'>\n",
      "DatetimeIndex: 1094 entries, 2013-11-18 to 2018-03-27\n",
      "Data columns (total 12 columns):\n",
      "Open           1094 non-null float64\n",
      "High           1094 non-null float64\n",
      "Low            1094 non-null float64\n",
      "Close          1094 non-null float64\n",
      "Volume         1094 non-null float64\n",
      "Ex-Dividend    1094 non-null float64\n",
      "Split Ratio    1094 non-null float64\n",
      "Adj. Open      1094 non-null float64\n",
      "Adj. High      1094 non-null float64\n",
      "Adj. Low       1094 non-null float64\n",
      "Adj. Close     1094 non-null float64\n",
      "Adj. Volume    1094 non-null float64\n",
      "dtypes: float64(12)\n",
      "memory usage: 111.1 KB\n"
     ]
    }
   ],
   "source": [
    "apple.info()\n",
    "print()\n",
    "intel.info()\n",
    "print()\n",
    "ebay.info()\n",
    "print()\n",
    "amazon.info()"
   ]
  },
  {
   "cell_type": "markdown",
   "metadata": {},
   "source": [
    "Clearly there are no columns with null values. "
   ]
  },
  {
   "cell_type": "markdown",
   "metadata": {},
   "source": [
    "Lets calculate the number of week days between the start and end dates. Ideally it should match the size of the dataframes"
   ]
  },
  {
   "cell_type": "code",
   "execution_count": 11,
   "metadata": {},
   "outputs": [
    {
     "name": "stdout",
     "output_type": "stream",
     "text": [
      "1305\n"
     ]
    }
   ],
   "source": [
    "businessDaily = pd.date_range(start=get_start_date(), end=get_end_date(), freq=BDay())\n",
    "print(len(businessDaily))"
   ]
  },
  {
   "cell_type": "markdown",
   "metadata": {},
   "source": [
    "The number of records in the data is not even close to the number of business days in the date range. So there must be missing data"
   ]
  },
  {
   "cell_type": "code",
   "execution_count": 12,
   "metadata": {},
   "outputs": [
    {
     "name": "stdout",
     "output_type": "stream",
     "text": [
      "Apple :\n",
      "max: 2018-03-27 00:00:00 min: 2013-11-18 00:00:00\n",
      "\n",
      "Intel :\n",
      "max: 2018-03-27 00:00:00 min: 2013-11-18 00:00:00\n",
      "\n",
      "EBay :\n",
      "max: 2018-03-27 00:00:00 min: 2013-11-18 00:00:00\n",
      "\n",
      "Amazon :\n",
      "max: 2018-03-27 00:00:00 min: 2013-11-18 00:00:00\n",
      "\n"
     ]
    }
   ],
   "source": [
    "print(\"Apple :\")\n",
    "print(\"max:\",apple.index.max(),\"min:\",apple.index.min(), end=\"\\n\\n\")\n",
    "\n",
    "print(\"Intel :\")\n",
    "print(\"max:\",intel.index.max(),\"min:\",intel.index.min(), end=\"\\n\\n\")\n",
    "\n",
    "print(\"EBay :\")\n",
    "print(\"max:\",ebay.index.max(),\"min:\",ebay.index.min(), end=\"\\n\\n\")\n",
    "\n",
    "print(\"Amazon :\")\n",
    "print(\"max:\",amazon.index.max(),\"min:\",amazon.index.min(), end=\"\\n\\n\")"
   ]
  },
  {
   "cell_type": "markdown",
   "metadata": {},
   "source": [
    "So, we dont have data beyond 2018-03-27 "
   ]
  },
  {
   "cell_type": "markdown",
   "metadata": {},
   "source": [
    "We are interested only in the adjusted close prices, so lets drop the other columns"
   ]
  },
  {
   "cell_type": "code",
   "execution_count": 13,
   "metadata": {},
   "outputs": [
    {
     "name": "stdout",
     "output_type": "stream",
     "text": [
      "Apple\n"
     ]
    },
    {
     "data": {
      "text/html": [
       "<table border=\"1\" class=\"dataframe\">\n",
       "  <thead>\n",
       "    <tr style=\"text-align: right;\">\n",
       "      <th></th>\n",
       "      <th>Adj. Close</th>\n",
       "    </tr>\n",
       "    <tr>\n",
       "      <th>Date</th>\n",
       "      <th></th>\n",
       "    </tr>\n",
       "  </thead>\n",
       "  <tbody>\n",
       "    <tr>\n",
       "      <th>2013-11-18</th>\n",
       "      <td>68.937464</td>\n",
       "    </tr>\n",
       "    <tr>\n",
       "      <th>2013-11-19</th>\n",
       "      <td>69.059886</td>\n",
       "    </tr>\n",
       "    <tr>\n",
       "      <th>2013-11-20</th>\n",
       "      <td>68.455088</td>\n",
       "    </tr>\n",
       "    <tr>\n",
       "      <th>2013-11-21</th>\n",
       "      <td>69.270701</td>\n",
       "    </tr>\n",
       "    <tr>\n",
       "      <th>2013-11-22</th>\n",
       "      <td>69.093116</td>\n",
       "    </tr>\n",
       "  </tbody>\n",
       "</table>"
      ],
      "text/plain": [
       "<IPython.core.display.HTML object>"
      ]
     },
     "metadata": {},
     "output_type": "display_data"
    },
    {
     "name": "stdout",
     "output_type": "stream",
     "text": [
      "Intel\n"
     ]
    },
    {
     "data": {
      "text/html": [
       "<table border=\"1\" class=\"dataframe\">\n",
       "  <thead>\n",
       "    <tr style=\"text-align: right;\">\n",
       "      <th></th>\n",
       "      <th>Adj. Close</th>\n",
       "    </tr>\n",
       "    <tr>\n",
       "      <th>Date</th>\n",
       "      <th></th>\n",
       "    </tr>\n",
       "  </thead>\n",
       "  <tbody>\n",
       "    <tr>\n",
       "      <th>2013-11-18</th>\n",
       "      <td>21.655930</td>\n",
       "    </tr>\n",
       "    <tr>\n",
       "      <th>2013-11-19</th>\n",
       "      <td>21.743962</td>\n",
       "    </tr>\n",
       "    <tr>\n",
       "      <th>2013-11-20</th>\n",
       "      <td>21.620717</td>\n",
       "    </tr>\n",
       "    <tr>\n",
       "      <th>2013-11-21</th>\n",
       "      <td>22.210533</td>\n",
       "    </tr>\n",
       "    <tr>\n",
       "      <th>2013-11-22</th>\n",
       "      <td>21.013294</td>\n",
       "    </tr>\n",
       "  </tbody>\n",
       "</table>"
      ],
      "text/plain": [
       "<IPython.core.display.HTML object>"
      ]
     },
     "metadata": {},
     "output_type": "display_data"
    },
    {
     "name": "stdout",
     "output_type": "stream",
     "text": [
      "EBay\n"
     ]
    },
    {
     "data": {
      "text/html": [
       "<table border=\"1\" class=\"dataframe\">\n",
       "  <thead>\n",
       "    <tr style=\"text-align: right;\">\n",
       "      <th></th>\n",
       "      <th>Adj. Close</th>\n",
       "    </tr>\n",
       "    <tr>\n",
       "      <th>Date</th>\n",
       "      <th></th>\n",
       "    </tr>\n",
       "  </thead>\n",
       "  <tbody>\n",
       "    <tr>\n",
       "      <th>2013-11-18</th>\n",
       "      <td>20.489118</td>\n",
       "    </tr>\n",
       "    <tr>\n",
       "      <th>2013-11-19</th>\n",
       "      <td>20.508789</td>\n",
       "    </tr>\n",
       "    <tr>\n",
       "      <th>2013-11-20</th>\n",
       "      <td>19.824244</td>\n",
       "    </tr>\n",
       "    <tr>\n",
       "      <th>2013-11-21</th>\n",
       "      <td>19.753429</td>\n",
       "    </tr>\n",
       "    <tr>\n",
       "      <th>2013-11-22</th>\n",
       "      <td>19.800639</td>\n",
       "    </tr>\n",
       "  </tbody>\n",
       "</table>"
      ],
      "text/plain": [
       "<IPython.core.display.HTML object>"
      ]
     },
     "metadata": {},
     "output_type": "display_data"
    },
    {
     "name": "stdout",
     "output_type": "stream",
     "text": [
      "Amazon\n"
     ]
    },
    {
     "data": {
      "text/html": [
       "<table border=\"1\" class=\"dataframe\">\n",
       "  <thead>\n",
       "    <tr style=\"text-align: right;\">\n",
       "      <th></th>\n",
       "      <th>Adj. Close</th>\n",
       "    </tr>\n",
       "    <tr>\n",
       "      <th>Date</th>\n",
       "      <th></th>\n",
       "    </tr>\n",
       "  </thead>\n",
       "  <tbody>\n",
       "    <tr>\n",
       "      <th>2013-11-18</th>\n",
       "      <td>366.18</td>\n",
       "    </tr>\n",
       "    <tr>\n",
       "      <th>2013-11-19</th>\n",
       "      <td>364.94</td>\n",
       "    </tr>\n",
       "    <tr>\n",
       "      <th>2013-11-20</th>\n",
       "      <td>362.57</td>\n",
       "    </tr>\n",
       "    <tr>\n",
       "      <th>2013-11-21</th>\n",
       "      <td>368.92</td>\n",
       "    </tr>\n",
       "    <tr>\n",
       "      <th>2013-11-22</th>\n",
       "      <td>372.31</td>\n",
       "    </tr>\n",
       "  </tbody>\n",
       "</table>"
      ],
      "text/plain": [
       "<IPython.core.display.HTML object>"
      ]
     },
     "metadata": {},
     "output_type": "display_data"
    }
   ],
   "source": [
    "print(\"Apple\")\n",
    "apple = apple.drop(['Open','High','Low','Close','Volume','Ex-Dividend','Split Ratio','Adj. Open','Adj. High','Adj. Low','Adj. Volume'], axis=1)\n",
    "display(HTML(apple.head().to_html()))\n",
    "\n",
    "print(\"Intel\")\n",
    "intel = intel.drop(['Open','High','Low','Close','Volume','Ex-Dividend','Split Ratio','Adj. Open','Adj. High','Adj. Low','Adj. Volume'], axis=1)\n",
    "display(HTML(intel.head().to_html()))\n",
    "\n",
    "print(\"EBay\")\n",
    "ebay = ebay.drop(['Open','High','Low','Close','Volume','Ex-Dividend','Split Ratio','Adj. Open','Adj. High','Adj. Low','Adj. Volume'], axis=1)\n",
    "display(HTML(ebay.head().to_html()))\n",
    "\n",
    "print(\"Amazon\")\n",
    "amazon = amazon.drop(['Open','High','Low','Close','Volume','Ex-Dividend','Split Ratio','Adj. Open','Adj. High','Adj. Low','Adj. Volume'], axis=1)\n",
    "display(HTML(amazon.head().to_html()))"
   ]
  },
  {
   "cell_type": "markdown",
   "metadata": {},
   "source": [
    "Lets look at a visual representation of the data as well"
   ]
  },
  {
   "cell_type": "code",
   "execution_count": 14,
   "metadata": {},
   "outputs": [
    {
     "data": {
      "text/html": [
       "<table border=\"1\" class=\"dataframe\">\n",
       "  <thead>\n",
       "    <tr style=\"text-align: right;\">\n",
       "      <th></th>\n",
       "      <th>Apple</th>\n",
       "      <th>Intel</th>\n",
       "      <th>Amazon</th>\n",
       "      <th>EBay</th>\n",
       "    </tr>\n",
       "    <tr>\n",
       "      <th>Date</th>\n",
       "      <th></th>\n",
       "      <th></th>\n",
       "      <th></th>\n",
       "      <th></th>\n",
       "    </tr>\n",
       "  </thead>\n",
       "  <tbody>\n",
       "    <tr>\n",
       "      <th>2013-11-18</th>\n",
       "      <td>68.937464</td>\n",
       "      <td>21.655930</td>\n",
       "      <td>366.18</td>\n",
       "      <td>20.489118</td>\n",
       "    </tr>\n",
       "    <tr>\n",
       "      <th>2013-11-19</th>\n",
       "      <td>69.059886</td>\n",
       "      <td>21.743962</td>\n",
       "      <td>364.94</td>\n",
       "      <td>20.508789</td>\n",
       "    </tr>\n",
       "    <tr>\n",
       "      <th>2013-11-20</th>\n",
       "      <td>68.455088</td>\n",
       "      <td>21.620717</td>\n",
       "      <td>362.57</td>\n",
       "      <td>19.824244</td>\n",
       "    </tr>\n",
       "    <tr>\n",
       "      <th>2013-11-21</th>\n",
       "      <td>69.270701</td>\n",
       "      <td>22.210533</td>\n",
       "      <td>368.92</td>\n",
       "      <td>19.753429</td>\n",
       "    </tr>\n",
       "    <tr>\n",
       "      <th>2013-11-22</th>\n",
       "      <td>69.093116</td>\n",
       "      <td>21.013294</td>\n",
       "      <td>372.31</td>\n",
       "      <td>19.800639</td>\n",
       "    </tr>\n",
       "  </tbody>\n",
       "</table>"
      ],
      "text/plain": [
       "<IPython.core.display.HTML object>"
      ]
     },
     "metadata": {},
     "output_type": "display_data"
    },
    {
     "data": {
      "text/plain": [
       "<Figure size 432x288 with 0 Axes>"
      ]
     },
     "metadata": {},
     "output_type": "display_data"
    },
    {
     "data": {
      "image/png": "[encoded data removed]",
      "text/plain": [
       "<Figure size 432x288 with 1 Axes>"
      ]
     },
     "metadata": {},
     "output_type": "display_data"
    }
   ],
   "source": [
    "tech_stocks = pd.DataFrame({\"Apple\": apple[\"Adj. Close\"],\n",
    "                      \"Intel\": intel[\"Adj. Close\"],\n",
    "                      \"Amazon\": amazon[\"Adj. Close\"],\n",
    "                      \"EBay\": ebay[\"Adj. Close\"]\n",
    "                      })\n",
    "display(HTML(tech_stocks.head().to_html()))\n",
    "\n",
    "plt.cla()\n",
    "plt.clf()\n",
    "\n",
    "colors = ['red','green','orange','black']\n",
    "\n",
    "tech_stocks.plot(grid=True, color=colors)\n",
    "plt.title(\"Adjusted Closing Prices of Tech stocks\")\n",
    "plt.show()"
   ]
  },
  {
   "cell_type": "markdown",
   "metadata": {},
   "source": [
    "<b>Step 2 : </b> Select the adjusted monthend close price for each of the stocks."
   ]
  },
  {
   "cell_type": "markdown",
   "metadata": {},
   "source": [
    "We have data in a daily timeseries format<br>\n",
    "\n",
    "To calculate month end prices, we can simply change the frequency of the time series index from daily(D) to business monthly(BM)"
   ]
  },
  {
   "cell_type": "code",
   "execution_count": 15,
   "metadata": {},
   "outputs": [
    {
     "name": "stderr",
     "output_type": "stream",
     "text": [
      "C:\\Users\\Kaustubh\\Anaconda3\\lib\\site-packages\\ipykernel_launcher.py:2: FutureWarning: \n",
      "Passing list-likes to .loc or [] with any missing label will raise\n",
      "KeyError in the future, you can use .reindex() as an alternative.\n",
      "\n",
      "See the documentation here:\n",
      "https://pandas.pydata.org/pandas-docs/stable/indexing.html#deprecate-loc-reindex-listlike\n",
      "  \n"
     ]
    }
   ],
   "source": [
    "def monthend_only(df):\n",
    "    df = df.loc[pd.date_range(start=get_start_date(), end=get_end_date(), freq='BM')]\n",
    "    return df\n",
    "\n",
    "apple_monthend = monthend_only(apple)\n",
    "intel_monthend = monthend_only(intel)\n",
    "ebay_monthend = monthend_only(ebay)\n",
    "amazon_monthend = monthend_only(amazon)\n"
   ]
  },
  {
   "cell_type": "markdown",
   "metadata": {},
   "source": [
    "Lets look at the data now"
   ]
  },
  {
   "cell_type": "markdown",
   "metadata": {},
   "source": [
    "A. Apple"
   ]
  },
  {
   "cell_type": "code",
   "execution_count": 16,
   "metadata": {},
   "outputs": [
    {
     "data": {
      "text/html": [
       "<table border=\"1\" class=\"dataframe\">\n",
       "  <thead>\n",
       "    <tr style=\"text-align: right;\">\n",
       "      <th></th>\n",
       "      <th>Adj. Close</th>\n",
       "    </tr>\n",
       "  </thead>\n",
       "  <tbody>\n",
       "    <tr>\n",
       "      <th>2013-11-29</th>\n",
       "      <td>73.914215</td>\n",
       "    </tr>\n",
       "    <tr>\n",
       "      <th>2013-12-31</th>\n",
       "      <td>74.572182</td>\n",
       "    </tr>\n",
       "    <tr>\n",
       "      <th>2014-01-31</th>\n",
       "      <td>66.541004</td>\n",
       "    </tr>\n",
       "    <tr>\n",
       "      <th>2014-02-28</th>\n",
       "      <td>70.365412</td>\n",
       "    </tr>\n",
       "    <tr>\n",
       "      <th>2014-03-31</th>\n",
       "      <td>71.769404</td>\n",
       "    </tr>\n",
       "  </tbody>\n",
       "</table>"
      ],
      "text/plain": [
       "<IPython.core.display.HTML object>"
      ]
     },
     "metadata": {},
     "output_type": "display_data"
    },
    {
     "name": "stdout",
     "output_type": "stream",
     "text": [
      "60\n"
     ]
    }
   ],
   "source": [
    "display(HTML(apple_monthend.head().to_html()))\n",
    "\n",
    "# should be 60\n",
    "print(apple_monthend.size)"
   ]
  },
  {
   "cell_type": "markdown",
   "metadata": {},
   "source": [
    "B. Intel"
   ]
  },
  {
   "cell_type": "code",
   "execution_count": 17,
   "metadata": {},
   "outputs": [
    {
     "data": {
      "text/html": [
       "<table border=\"1\" class=\"dataframe\">\n",
       "  <thead>\n",
       "    <tr style=\"text-align: right;\">\n",
       "      <th></th>\n",
       "      <th>Adj. Close</th>\n",
       "    </tr>\n",
       "  </thead>\n",
       "  <tbody>\n",
       "    <tr>\n",
       "      <th>2013-11-29</th>\n",
       "      <td>20.986885</td>\n",
       "    </tr>\n",
       "    <tr>\n",
       "      <th>2013-12-31</th>\n",
       "      <td>22.848766</td>\n",
       "    </tr>\n",
       "    <tr>\n",
       "      <th>2014-01-31</th>\n",
       "      <td>21.603110</td>\n",
       "    </tr>\n",
       "    <tr>\n",
       "      <th>2014-02-28</th>\n",
       "      <td>22.005296</td>\n",
       "    </tr>\n",
       "    <tr>\n",
       "      <th>2014-03-31</th>\n",
       "      <td>22.942032</td>\n",
       "    </tr>\n",
       "  </tbody>\n",
       "</table>"
      ],
      "text/plain": [
       "<IPython.core.display.HTML object>"
      ]
     },
     "metadata": {},
     "output_type": "display_data"
    },
    {
     "name": "stdout",
     "output_type": "stream",
     "text": [
      "60\n"
     ]
    }
   ],
   "source": [
    "display(HTML(intel_monthend.head().to_html()))\n",
    "\n",
    "# should be 60\n",
    "print(intel_monthend.size)"
   ]
  },
  {
   "cell_type": "markdown",
   "metadata": {},
   "source": [
    "C. EBay"
   ]
  },
  {
   "cell_type": "code",
   "execution_count": 18,
   "metadata": {},
   "outputs": [
    {
     "data": {
      "text/html": [
       "<table border=\"1\" class=\"dataframe\">\n",
       "  <thead>\n",
       "    <tr style=\"text-align: right;\">\n",
       "      <th></th>\n",
       "      <th>Adj. Close</th>\n",
       "    </tr>\n",
       "  </thead>\n",
       "  <tbody>\n",
       "    <tr>\n",
       "      <th>2013-11-29</th>\n",
       "      <td>19.875388</td>\n",
       "    </tr>\n",
       "    <tr>\n",
       "      <th>2013-12-31</th>\n",
       "      <td>21.584782</td>\n",
       "    </tr>\n",
       "    <tr>\n",
       "      <th>2014-01-31</th>\n",
       "      <td>20.929744</td>\n",
       "    </tr>\n",
       "    <tr>\n",
       "      <th>2014-02-28</th>\n",
       "      <td>23.121072</td>\n",
       "    </tr>\n",
       "    <tr>\n",
       "      <th>2014-03-31</th>\n",
       "      <td>21.732313</td>\n",
       "    </tr>\n",
       "  </tbody>\n",
       "</table>"
      ],
      "text/plain": [
       "<IPython.core.display.HTML object>"
      ]
     },
     "metadata": {},
     "output_type": "display_data"
    },
    {
     "name": "stdout",
     "output_type": "stream",
     "text": [
      "60\n"
     ]
    }
   ],
   "source": [
    "display(HTML(ebay_monthend.head().to_html()))\n",
    "\n",
    "# should be 60\n",
    "print(ebay_monthend.size)"
   ]
  },
  {
   "cell_type": "markdown",
   "metadata": {},
   "source": [
    "D. Amazon"
   ]
  },
  {
   "cell_type": "code",
   "execution_count": 19,
   "metadata": {},
   "outputs": [
    {
     "data": {
      "text/html": [
       "<table border=\"1\" class=\"dataframe\">\n",
       "  <thead>\n",
       "    <tr style=\"text-align: right;\">\n",
       "      <th></th>\n",
       "      <th>Adj. Close</th>\n",
       "    </tr>\n",
       "  </thead>\n",
       "  <tbody>\n",
       "    <tr>\n",
       "      <th>2013-11-29</th>\n",
       "      <td>393.620</td>\n",
       "    </tr>\n",
       "    <tr>\n",
       "      <th>2013-12-31</th>\n",
       "      <td>398.790</td>\n",
       "    </tr>\n",
       "    <tr>\n",
       "      <th>2014-01-31</th>\n",
       "      <td>358.690</td>\n",
       "    </tr>\n",
       "    <tr>\n",
       "      <th>2014-02-28</th>\n",
       "      <td>362.100</td>\n",
       "    </tr>\n",
       "    <tr>\n",
       "      <th>2014-03-31</th>\n",
       "      <td>336.365</td>\n",
       "    </tr>\n",
       "  </tbody>\n",
       "</table>"
      ],
      "text/plain": [
       "<IPython.core.display.HTML object>"
      ]
     },
     "metadata": {},
     "output_type": "display_data"
    },
    {
     "name": "stdout",
     "output_type": "stream",
     "text": [
      "60\n"
     ]
    }
   ],
   "source": [
    "display(HTML(amazon_monthend.head().to_html()))\n",
    "\n",
    "# should be 60\n",
    "print(amazon_monthend.size)"
   ]
  },
  {
   "cell_type": "markdown",
   "metadata": {},
   "source": [
    "Since Quandl doesnt have data upto current date, we have a lot of null values. Lets get rid of them"
   ]
  },
  {
   "cell_type": "code",
   "execution_count": 20,
   "metadata": {},
   "outputs": [],
   "source": [
    "apple_monthend[\"Adj. Close\"].dropna(inplace=True)\n",
    "intel_monthend[\"Adj. Close\"].dropna(inplace=True)\n",
    "ebay_monthend[\"Adj. Close\"].dropna(inplace=True)\n",
    "amazon_monthend[\"Adj. Close\"].dropna(inplace=True)"
   ]
  },
  {
   "cell_type": "markdown",
   "metadata": {},
   "source": [
    "Clearly now the data contains month end data and has exactly 60 entries (since we are considering 60 month data)"
   ]
  },
  {
   "cell_type": "code",
   "execution_count": 21,
   "metadata": {},
   "outputs": [
    {
     "data": {
      "text/html": [
       "<table border=\"1\" class=\"dataframe\">\n",
       "  <thead>\n",
       "    <tr style=\"text-align: right;\">\n",
       "      <th></th>\n",
       "      <th>Apple</th>\n",
       "      <th>Intel</th>\n",
       "      <th>Amazon</th>\n",
       "      <th>EBay</th>\n",
       "    </tr>\n",
       "  </thead>\n",
       "  <tbody>\n",
       "    <tr>\n",
       "      <th>2013-11-29</th>\n",
       "      <td>73.914215</td>\n",
       "      <td>20.986885</td>\n",
       "      <td>393.620</td>\n",
       "      <td>19.875388</td>\n",
       "    </tr>\n",
       "    <tr>\n",
       "      <th>2013-12-31</th>\n",
       "      <td>74.572182</td>\n",
       "      <td>22.848766</td>\n",
       "      <td>398.790</td>\n",
       "      <td>21.584782</td>\n",
       "    </tr>\n",
       "    <tr>\n",
       "      <th>2014-01-31</th>\n",
       "      <td>66.541004</td>\n",
       "      <td>21.603110</td>\n",
       "      <td>358.690</td>\n",
       "      <td>20.929744</td>\n",
       "    </tr>\n",
       "    <tr>\n",
       "      <th>2014-02-28</th>\n",
       "      <td>70.365412</td>\n",
       "      <td>22.005296</td>\n",
       "      <td>362.100</td>\n",
       "      <td>23.121072</td>\n",
       "    </tr>\n",
       "    <tr>\n",
       "      <th>2014-03-31</th>\n",
       "      <td>71.769404</td>\n",
       "      <td>22.942032</td>\n",
       "      <td>336.365</td>\n",
       "      <td>21.732313</td>\n",
       "    </tr>\n",
       "  </tbody>\n",
       "</table>"
      ],
      "text/plain": [
       "<IPython.core.display.HTML object>"
      ]
     },
     "metadata": {},
     "output_type": "display_data"
    },
    {
     "data": {
      "text/plain": [
       "<Figure size 432x288 with 0 Axes>"
      ]
     },
     "metadata": {},
     "output_type": "display_data"
    },
    {
     "data": {
      "image/png": "[encoded data removed]",
      "text/plain": [
       "<Figure size 432x288 with 1 Axes>"
      ]
     },
     "metadata": {},
     "output_type": "display_data"
    }
   ],
   "source": [
    "tech_stocks = pd.DataFrame({\"Apple\": apple_monthend[\"Adj. Close\"],\n",
    "                      \"Intel\": intel_monthend[\"Adj. Close\"],\n",
    "                      \"Amazon\": amazon_monthend[\"Adj. Close\"],\n",
    "                      \"EBay\": ebay_monthend[\"Adj. Close\"]\n",
    "                      })\n",
    "display(HTML(tech_stocks.head().to_html()))\n",
    "\n",
    "plt.cla()\n",
    "plt.clf()\n",
    "\n",
    "colors = ['red','green','orange','black']\n",
    "\n",
    "tech_stocks.plot(grid=True, color=colors)\n",
    "plt.title(\"Adjusted Closing Prices of Tech stocks at Month Ends\")\n",
    "plt.show()"
   ]
  },
  {
   "cell_type": "markdown",
   "metadata": {},
   "source": [
    "To make the data easily visible, we can use two different scales - one for Amazon and other for everything else"
   ]
  },
  {
   "cell_type": "code",
   "execution_count": 22,
   "metadata": {},
   "outputs": [
    {
     "data": {
      "text/plain": [
       "<Figure size 432x288 with 0 Axes>"
      ]
     },
     "metadata": {},
     "output_type": "display_data"
    },
    {
     "data": {
      "image/png": "[encoded data removed]",
      "text/plain": [
       "<Figure size 432x288 with 2 Axes>"
      ]
     },
     "metadata": {},
     "output_type": "display_data"
    }
   ],
   "source": [
    "plt.cla()\n",
    "plt.clf()\n",
    "\n",
    "colors = ['red','green','orange','black']\n",
    "\n",
    "tech_stocks.plot(grid=True, color=colors, secondary_y='Amazon')\n",
    "plt.title(\"Adjusted Closing Prices of Tech stocks at Month Ends\")\n",
    "plt.show()"
   ]
  },
  {
   "cell_type": "markdown",
   "metadata": {},
   "source": [
    "The plot is now somewhat more meaningful but a more meaningful interpretation would be to plot the returns instead"
   ]
  },
  {
   "cell_type": "markdown",
   "metadata": {},
   "source": [
    "<b>Step 3.</b> Auto correlation plot <p>\n",
    "\n",
    "Autocorrelation plots are used for checking randomness in time series. <br>\n",
    "This is done by computing autocorrelations for data values at varying time lags. <br>\n",
    "If time series is random, such autocorrelations should be near zero for any and all time-lag separations. If time series is non-random then one or more of the autocorrelations will be significantly non-zero."
   ]
  },
  {
   "cell_type": "markdown",
   "metadata": {},
   "source": [
    "A. Apple"
   ]
  },
  {
   "cell_type": "code",
   "execution_count": 23,
   "metadata": {},
   "outputs": [
    {
     "data": {
      "text/plain": [
       "<Figure size 432x288 with 0 Axes>"
      ]
     },
     "metadata": {},
     "output_type": "display_data"
    },
    {
     "data": {
      "image/png": "[encoded data removed]",
      "text/plain": [
       "<Figure size 432x288 with 1 Axes>"
      ]
     },
     "metadata": {},
     "output_type": "display_data"
    }
   ],
   "source": [
    "\n",
    "plt.cla()\n",
    "plt.clf()\n",
    "\n",
    "plt.figure()\n",
    "plotting.autocorrelation_plot(apple_monthend[\"Adj. Close\"])\n",
    "plt.title(\"Autocorrelation plot for Apple\")\n",
    "plt.show()"
   ]
  },
  {
   "cell_type": "markdown",
   "metadata": {},
   "source": [
    "B. Amazon"
   ]
  },
  {
   "cell_type": "code",
   "execution_count": 24,
   "metadata": {},
   "outputs": [
    {
     "data": {
      "text/plain": [
       "<Figure size 432x288 with 0 Axes>"
      ]
     },
     "metadata": {},
     "output_type": "display_data"
    },
    {
     "data": {
      "image/png": "[encoded data removed]",
      "text/plain": [
       "<Figure size 432x288 with 1 Axes>"
      ]
     },
     "metadata": {},
     "output_type": "display_data"
    }
   ],
   "source": [
    "\n",
    "plt.cla()\n",
    "plt.clf()\n",
    "\n",
    "plt.figure()\n",
    "plotting.autocorrelation_plot(amazon_monthend[\"Adj. Close\"])\n",
    "plt.title(\"Autocorrelation plot for Amazon\")\n",
    "plt.show()"
   ]
  },
  {
   "cell_type": "markdown",
   "metadata": {},
   "source": [
    "C. EBay"
   ]
  },
  {
   "cell_type": "code",
   "execution_count": 27,
   "metadata": {},
   "outputs": [
    {
     "data": {
      "text/plain": [
       "<Figure size 432x288 with 0 Axes>"
      ]
     },
     "metadata": {},
     "output_type": "display_data"
    },
    {
     "data": {
      "image/png": "[encoded data removed]",
      "text/plain": [
       "<Figure size 432x288 with 1 Axes>"
      ]
     },
     "metadata": {},
     "output_type": "display_data"
    }
   ],
   "source": [
    "\n",
    "plt.cla()\n",
    "plt.clf()\n",
    "\n",
    "plt.figure()\n",
    "plotting.autocorrelation_plot(ebay_monthend[\"Adj. Close\"])\n",
    "plt.title(\"Autocorrelation plot for EBay\")\n",
    "plt.show()"
   ]
  },
  {
   "cell_type": "markdown",
   "metadata": {},
   "source": [
    "D. Intel"
   ]
  },
  {
   "cell_type": "code",
   "execution_count": 28,
   "metadata": {},
   "outputs": [
    {
     "data": {
      "text/plain": [
       "<Figure size 432x288 with 0 Axes>"
      ]
     },
     "metadata": {},
     "output_type": "display_data"
    },
    {
     "data": {
      "image/png": "[encoded data removed]",
      "text/plain": [
       "<Figure size 432x288 with 1 Axes>"
      ]
     },
     "metadata": {},
     "output_type": "display_data"
    }
   ],
   "source": [
    "plt.cla()\n",
    "plt.clf()\n",
    "\n",
    "plt.figure()\n",
    "plotting.autocorrelation_plot(intel_monthend[\"Adj. Close\"])\n",
    "plt.title(\"Autocorrelation plot for Intel\")\n",
    "plt.show()"
   ]
  },
  {
   "cell_type": "markdown",
   "metadata": {},
   "source": [
    "<b>Observations :</b>\n",
    "    \n",
    "TODO"
   ]
  },
  {
   "cell_type": "markdown",
   "metadata": {},
   "source": [
    "<b>Step 4</b> Calculating Monthly Returns"
   ]
  },
  {
   "cell_type": "code",
   "execution_count": 29,
   "metadata": {},
   "outputs": [],
   "source": [
    "apple_return = apple_monthend/apple_monthend.shift(1)-1\n",
    "intel_return = intel_monthend/intel_monthend.shift(1)-1\n",
    "ebay_return = ebay_monthend/ebay_monthend.shift(1)-1\n",
    "amazon_return = amazon_monthend/amazon_monthend.shift(1)-1"
   ]
  },
  {
   "cell_type": "markdown",
   "metadata": {},
   "source": [
    "Lets take a look at the data"
   ]
  },
  {
   "cell_type": "code",
   "execution_count": 30,
   "metadata": {},
   "outputs": [
    {
     "name": "stdout",
     "output_type": "stream",
     "text": [
      "Apple\n"
     ]
    },
    {
     "data": {
      "text/html": [
       "<table border=\"1\" class=\"dataframe\">\n",
       "  <thead>\n",
       "    <tr style=\"text-align: right;\">\n",
       "      <th></th>\n",
       "      <th>Adj. Close</th>\n",
       "    </tr>\n",
       "  </thead>\n",
       "  <tbody>\n",
       "    <tr>\n",
       "      <th>2013-11-29</th>\n",
       "      <td>NaN</td>\n",
       "    </tr>\n",
       "    <tr>\n",
       "      <th>2013-12-31</th>\n",
       "      <td>0.008902</td>\n",
       "    </tr>\n",
       "    <tr>\n",
       "      <th>2014-01-31</th>\n",
       "      <td>-0.107697</td>\n",
       "    </tr>\n",
       "    <tr>\n",
       "      <th>2014-02-28</th>\n",
       "      <td>0.057474</td>\n",
       "    </tr>\n",
       "    <tr>\n",
       "      <th>2014-03-31</th>\n",
       "      <td>0.019953</td>\n",
       "    </tr>\n",
       "  </tbody>\n",
       "</table>"
      ],
      "text/plain": [
       "<IPython.core.display.HTML object>"
      ]
     },
     "metadata": {},
     "output_type": "display_data"
    },
    {
     "name": "stdout",
     "output_type": "stream",
     "text": [
      "Intel\n"
     ]
    },
    {
     "data": {
      "text/html": [
       "<table border=\"1\" class=\"dataframe\">\n",
       "  <thead>\n",
       "    <tr style=\"text-align: right;\">\n",
       "      <th></th>\n",
       "      <th>Adj. Close</th>\n",
       "    </tr>\n",
       "  </thead>\n",
       "  <tbody>\n",
       "    <tr>\n",
       "      <th>2013-11-29</th>\n",
       "      <td>NaN</td>\n",
       "    </tr>\n",
       "    <tr>\n",
       "      <th>2013-12-31</th>\n",
       "      <td>0.088716</td>\n",
       "    </tr>\n",
       "    <tr>\n",
       "      <th>2014-01-31</th>\n",
       "      <td>-0.054517</td>\n",
       "    </tr>\n",
       "    <tr>\n",
       "      <th>2014-02-28</th>\n",
       "      <td>0.018617</td>\n",
       "    </tr>\n",
       "    <tr>\n",
       "      <th>2014-03-31</th>\n",
       "      <td>0.042569</td>\n",
       "    </tr>\n",
       "  </tbody>\n",
       "</table>"
      ],
      "text/plain": [
       "<IPython.core.display.HTML object>"
      ]
     },
     "metadata": {},
     "output_type": "display_data"
    },
    {
     "name": "stdout",
     "output_type": "stream",
     "text": [
      "EBay\n"
     ]
    },
    {
     "data": {
      "text/html": [
       "<table border=\"1\" class=\"dataframe\">\n",
       "  <thead>\n",
       "    <tr style=\"text-align: right;\">\n",
       "      <th></th>\n",
       "      <th>Adj. Close</th>\n",
       "    </tr>\n",
       "  </thead>\n",
       "  <tbody>\n",
       "    <tr>\n",
       "      <th>2013-11-29</th>\n",
       "      <td>NaN</td>\n",
       "    </tr>\n",
       "    <tr>\n",
       "      <th>2013-12-31</th>\n",
       "      <td>0.086006</td>\n",
       "    </tr>\n",
       "    <tr>\n",
       "      <th>2014-01-31</th>\n",
       "      <td>-0.030347</td>\n",
       "    </tr>\n",
       "    <tr>\n",
       "      <th>2014-02-28</th>\n",
       "      <td>0.104699</td>\n",
       "    </tr>\n",
       "    <tr>\n",
       "      <th>2014-03-31</th>\n",
       "      <td>-0.060065</td>\n",
       "    </tr>\n",
       "  </tbody>\n",
       "</table>"
      ],
      "text/plain": [
       "<IPython.core.display.HTML object>"
      ]
     },
     "metadata": {},
     "output_type": "display_data"
    },
    {
     "name": "stdout",
     "output_type": "stream",
     "text": [
      "Amazon\n"
     ]
    },
    {
     "data": {
      "text/html": [
       "<table border=\"1\" class=\"dataframe\">\n",
       "  <thead>\n",
       "    <tr style=\"text-align: right;\">\n",
       "      <th></th>\n",
       "      <th>Adj. Close</th>\n",
       "    </tr>\n",
       "  </thead>\n",
       "  <tbody>\n",
       "    <tr>\n",
       "      <th>2013-11-29</th>\n",
       "      <td>NaN</td>\n",
       "    </tr>\n",
       "    <tr>\n",
       "      <th>2013-12-31</th>\n",
       "      <td>0.013134</td>\n",
       "    </tr>\n",
       "    <tr>\n",
       "      <th>2014-01-31</th>\n",
       "      <td>-0.100554</td>\n",
       "    </tr>\n",
       "    <tr>\n",
       "      <th>2014-02-28</th>\n",
       "      <td>0.009507</td>\n",
       "    </tr>\n",
       "    <tr>\n",
       "      <th>2014-03-31</th>\n",
       "      <td>-0.071072</td>\n",
       "    </tr>\n",
       "  </tbody>\n",
       "</table>"
      ],
      "text/plain": [
       "<IPython.core.display.HTML object>"
      ]
     },
     "metadata": {},
     "output_type": "display_data"
    }
   ],
   "source": [
    "print(\"Apple\")\n",
    "display(HTML(apple_return.head().to_html()))\n",
    "\n",
    "print(\"Intel\")\n",
    "display(HTML(intel_return.head().to_html()))\n",
    "\n",
    "print(\"EBay\")\n",
    "display(HTML(ebay_return.head().to_html()))\n",
    "\n",
    "print(\"Amazon\")\n",
    "display(HTML(amazon_return.head().to_html()))"
   ]
  },
  {
   "cell_type": "markdown",
   "metadata": {},
   "source": [
    "Lets look at a graphical representation of the data"
   ]
  },
  {
   "cell_type": "code",
   "execution_count": 31,
   "metadata": {},
   "outputs": [
    {
     "data": {
      "text/html": [
       "<table border=\"1\" class=\"dataframe\">\n",
       "  <thead>\n",
       "    <tr style=\"text-align: right;\">\n",
       "      <th></th>\n",
       "      <th>Apple</th>\n",
       "      <th>Intel</th>\n",
       "      <th>Amazon</th>\n",
       "      <th>EBay</th>\n",
       "    </tr>\n",
       "  </thead>\n",
       "  <tbody>\n",
       "    <tr>\n",
       "      <th>2013-11-29</th>\n",
       "      <td>NaN</td>\n",
       "      <td>NaN</td>\n",
       "      <td>NaN</td>\n",
       "      <td>NaN</td>\n",
       "    </tr>\n",
       "    <tr>\n",
       "      <th>2013-12-31</th>\n",
       "      <td>0.008902</td>\n",
       "      <td>0.088716</td>\n",
       "      <td>0.013134</td>\n",
       "      <td>0.086006</td>\n",
       "    </tr>\n",
       "    <tr>\n",
       "      <th>2014-01-31</th>\n",
       "      <td>-0.107697</td>\n",
       "      <td>-0.054517</td>\n",
       "      <td>-0.100554</td>\n",
       "      <td>-0.030347</td>\n",
       "    </tr>\n",
       "    <tr>\n",
       "      <th>2014-02-28</th>\n",
       "      <td>0.057474</td>\n",
       "      <td>0.018617</td>\n",
       "      <td>0.009507</td>\n",
       "      <td>0.104699</td>\n",
       "    </tr>\n",
       "    <tr>\n",
       "      <th>2014-03-31</th>\n",
       "      <td>0.019953</td>\n",
       "      <td>0.042569</td>\n",
       "      <td>-0.071072</td>\n",
       "      <td>-0.060065</td>\n",
       "    </tr>\n",
       "  </tbody>\n",
       "</table>"
      ],
      "text/plain": [
       "<IPython.core.display.HTML object>"
      ]
     },
     "metadata": {},
     "output_type": "display_data"
    },
    {
     "data": {
      "text/plain": [
       "<Figure size 432x288 with 0 Axes>"
      ]
     },
     "metadata": {},
     "output_type": "display_data"
    },
    {
     "data": {
      "image/png": "[encoded data removed]",
      "text/plain": [
       "<Figure size 432x288 with 1 Axes>"
      ]
     },
     "metadata": {},
     "output_type": "display_data"
    }
   ],
   "source": [
    "tech_stocks = pd.DataFrame({\"Apple\": apple_return[\"Adj. Close\"],\n",
    "                      \"Intel\": intel_return[\"Adj. Close\"],\n",
    "                      \"Amazon\": amazon_return[\"Adj. Close\"],\n",
    "                      \"EBay\": ebay_return[\"Adj. Close\"]\n",
    "                      })\n",
    "display(HTML(tech_stocks.head().to_html()))\n",
    "\n",
    "plt.cla()\n",
    "plt.clf()\n",
    "\n",
    "colors = ['red','green','orange','black']\n",
    "\n",
    "tech_stocks.plot(grid=True, color=colors)\n",
    "plt.title(\"Monthly returns on Adjusted Closing Prices\")\n",
    "plt.show()"
   ]
  },
  {
   "cell_type": "markdown",
   "metadata": {},
   "source": [
    "<b> Step 5.</b> Autocorrelation of monthly returns"
   ]
  },
  {
   "cell_type": "markdown",
   "metadata": {},
   "source": [
    "Lets remove the null values first\n"
   ]
  },
  {
   "cell_type": "code",
   "execution_count": 32,
   "metadata": {},
   "outputs": [],
   "source": [
    "apple_return[\"Adj. Close\"].dropna(inplace=True)\n",
    "intel_return[\"Adj. Close\"].dropna(inplace=True)\n",
    "ebay_return[\"Adj. Close\"].dropna(inplace=True)\n",
    "amazon_return[\"Adj. Close\"].dropna(inplace=True)"
   ]
  },
  {
   "cell_type": "markdown",
   "metadata": {},
   "source": [
    "A. Apple"
   ]
  },
  {
   "cell_type": "code",
   "execution_count": 33,
   "metadata": {},
   "outputs": [
    {
     "data": {
      "text/plain": [
       "<Figure size 432x288 with 0 Axes>"
      ]
     },
     "metadata": {},
     "output_type": "display_data"
    },
    {
     "data": {
      "image/png": "[encoded data removed]",
      "text/plain": [
       "<Figure size 432x288 with 1 Axes>"
      ]
     },
     "metadata": {},
     "output_type": "display_data"
    }
   ],
   "source": [
    "plt.cla()\n",
    "plt.clf()\n",
    "\n",
    "plt.figure()\n",
    "plotting.autocorrelation_plot(apple_return[\"Adj. Close\"])\n",
    "plt.title(\"Autocorrelation plot for Apple Returns\")\n",
    "plt.show()"
   ]
  },
  {
   "cell_type": "markdown",
   "metadata": {},
   "source": [
    "B. Intel"
   ]
  },
  {
   "cell_type": "code",
   "execution_count": 34,
   "metadata": {},
   "outputs": [
    {
     "data": {
      "text/plain": [
       "<Figure size 432x288 with 0 Axes>"
      ]
     },
     "metadata": {},
     "output_type": "display_data"
    },
    {
     "data": {
      "image/png": "[encoded data removed]",
      "text/plain": [
       "<Figure size 432x288 with 1 Axes>"
      ]
     },
     "metadata": {},
     "output_type": "display_data"
    }
   ],
   "source": [
    "plt.cla()\n",
    "plt.clf()\n",
    "\n",
    "plt.figure()\n",
    "plotting.autocorrelation_plot(intel_return[\"Adj. Close\"])\n",
    "plt.title(\"Autocorrelation plot for Intel Returns\")\n",
    "plt.show()"
   ]
  },
  {
   "cell_type": "markdown",
   "metadata": {},
   "source": [
    "C. EBay"
   ]
  },
  {
   "cell_type": "code",
   "execution_count": 35,
   "metadata": {},
   "outputs": [
    {
     "data": {
      "text/plain": [
       "<Figure size 432x288 with 0 Axes>"
      ]
     },
     "metadata": {},
     "output_type": "display_data"
    },
    {
     "data": {
      "image/png": "[encoded data removed]",
      "text/plain": [
       "<Figure size 432x288 with 1 Axes>"
      ]
     },
     "metadata": {},
     "output_type": "display_data"
    }
   ],
   "source": [
    "plt.cla()\n",
    "plt.clf()\n",
    "\n",
    "plt.figure()\n",
    "plotting.autocorrelation_plot(ebay_return[\"Adj. Close\"])\n",
    "plt.title(\"Autocorrelation plot for EBay Returns\")\n",
    "plt.show()"
   ]
  },
  {
   "cell_type": "markdown",
   "metadata": {},
   "source": [
    "D. Amazon"
   ]
  },
  {
   "cell_type": "code",
   "execution_count": 36,
   "metadata": {},
   "outputs": [
    {
     "data": {
      "text/plain": [
       "<Figure size 432x288 with 0 Axes>"
      ]
     },
     "metadata": {},
     "output_type": "display_data"
    },
    {
     "data": {
      "image/png": "[encoded data removed]",
      "text/plain": [
       "<Figure size 432x288 with 1 Axes>"
      ]
     },
     "metadata": {},
     "output_type": "display_data"
    }
   ],
   "source": [
    "plt.cla()\n",
    "plt.clf()\n",
    "\n",
    "plt.figure()\n",
    "plotting.autocorrelation_plot(amazon_return[\"Adj. Close\"])\n",
    "plt.title(\"Autocorrelation plot for Amazon Returns\")\n",
    "plt.show()"
   ]
  },
  {
   "cell_type": "markdown",
   "metadata": {},
   "source": [
    "<b> Observations : </b> ToDo"
   ]
  },
  {
   "cell_type": "markdown",
   "metadata": {},
   "source": [
    "<b>Step 7</b>. Visualize the correlation between the returns of all pairs of stocks using a scatterplot matrix"
   ]
  },
  {
   "cell_type": "code",
   "execution_count": 37,
   "metadata": {},
   "outputs": [
    {
     "data": {
      "text/html": [
       "<table border=\"1\" class=\"dataframe\">\n",
       "  <thead>\n",
       "    <tr style=\"text-align: right;\">\n",
       "      <th></th>\n",
       "      <th>Apple</th>\n",
       "      <th>Intel</th>\n",
       "      <th>Amazon</th>\n",
       "      <th>EBay</th>\n",
       "    </tr>\n",
       "  </thead>\n",
       "  <tbody>\n",
       "    <tr>\n",
       "      <th>2013-12-31</th>\n",
       "      <td>0.008902</td>\n",
       "      <td>0.088716</td>\n",
       "      <td>0.013134</td>\n",
       "      <td>0.086006</td>\n",
       "    </tr>\n",
       "    <tr>\n",
       "      <th>2014-01-31</th>\n",
       "      <td>-0.107697</td>\n",
       "      <td>-0.054517</td>\n",
       "      <td>-0.100554</td>\n",
       "      <td>-0.030347</td>\n",
       "    </tr>\n",
       "    <tr>\n",
       "      <th>2014-02-28</th>\n",
       "      <td>0.057474</td>\n",
       "      <td>0.018617</td>\n",
       "      <td>0.009507</td>\n",
       "      <td>0.104699</td>\n",
       "    </tr>\n",
       "    <tr>\n",
       "      <th>2014-03-31</th>\n",
       "      <td>0.019953</td>\n",
       "      <td>0.042569</td>\n",
       "      <td>-0.071072</td>\n",
       "      <td>-0.060065</td>\n",
       "    </tr>\n",
       "    <tr>\n",
       "      <th>2014-04-30</th>\n",
       "      <td>0.099396</td>\n",
       "      <td>0.033935</td>\n",
       "      <td>-0.095833</td>\n",
       "      <td>-0.061731</td>\n",
       "    </tr>\n",
       "  </tbody>\n",
       "</table>"
      ],
      "text/plain": [
       "<IPython.core.display.HTML object>"
      ]
     },
     "metadata": {},
     "output_type": "display_data"
    }
   ],
   "source": [
    "tech_stock_return = pd.DataFrame({\"Apple\": apple_return[\"Adj. Close\"],\n",
    "                      \"Intel\": intel_return[\"Adj. Close\"],\n",
    "                      \"Amazon\": amazon_return[\"Adj. Close\"],\n",
    "                      \"EBay\": ebay_return[\"Adj. Close\"]\n",
    "                      })\n",
    "display(HTML(tech_stock_return.head().to_html()))\n",
    "\n"
   ]
  },
  {
   "cell_type": "code",
   "execution_count": 38,
   "metadata": {},
   "outputs": [
    {
     "name": "stderr",
     "output_type": "stream",
     "text": [
      "C:\\Users\\Kaustubh\\Anaconda3\\lib\\site-packages\\scipy\\stats\\stats.py:1713: FutureWarning: Using a non-tuple sequence for multidimensional indexing is deprecated; use `arr[tuple(seq)]` instead of `arr[seq]`. In the future this will be interpreted as an array index, `arr[np.array(seq)]`, which will result either in an error or a different result.\n",
      "  return np.add.reduce(sorted[indexer] * weights, axis=axis) / sumval\n"
     ]
    },
    {
     "data": {
      "text/plain": [
       "<Figure size 432x288 with 0 Axes>"
      ]
     },
     "metadata": {},
     "output_type": "display_data"
    },
    {
     "data": {
      "image/png": "[encoded data removed]",
      "text/plain": [
       "<Figure size 720x720 with 20 Axes>"
      ]
     },
     "metadata": {},
     "output_type": "display_data"
    }
   ],
   "source": [
    "plt.cla()\n",
    "plt.clf()\n",
    "\n",
    "sns.set(style=\"ticks\")\n",
    "sns.pairplot(tech_stock_return, kind=\"reg\")\n",
    "plt.show()"
   ]
  },
  {
   "cell_type": "markdown",
   "metadata": {},
   "source": [
    "<b> Step 8 </b>. Visualize the correlation of the returns of all pairs of stocks "
   ]
  },
  {
   "cell_type": "code",
   "execution_count": 39,
   "metadata": {},
   "outputs": [
    {
     "data": {
      "text/plain": [
       "<Figure size 432x288 with 0 Axes>"
      ]
     },
     "metadata": {},
     "output_type": "display_data"
    },
    {
     "data": {
      "image/png": "[encoded data removed]",
      "text/plain": [
       "<Figure size 432x432 with 2 Axes>"
      ]
     },
     "metadata": {},
     "output_type": "display_data"
    }
   ],
   "source": [
    "plt.cla()\n",
    "plt.clf()\n",
    "\n",
    "corr_matrix = tech_stock_return[['Apple','Intel','Amazon','EBay']].corr().round(2)\n",
    "\n",
    "fig = plt.figure(figsize = (6, 6))\n",
    "sns.heatmap(corr_matrix, annot=True, center=0, square=True, cmap=\"summer\")\n",
    "plt.title(\"Correlation Matrix\")\n",
    "plt.show()"
   ]
  },
  {
   "cell_type": "code",
   "execution_count": null,
   "metadata": {},
   "outputs": [],
   "source": []
  },
  {
   "cell_type": "code",
   "execution_count": null,
   "metadata": {},
   "outputs": [],
   "source": []
  }
 ],
 "metadata": {
  "kernelspec": {
   "display_name": "Python 3",
   "language": "python",
   "name": "python3"
  },
  "language_info": {
   "codemirror_mode": {
    "name": "ipython",
    "version": 3
   },
   "file_extension": ".py",
   "mimetype": "text/x-python",
   "name": "python",
   "nbconvert_exporter": "python",
   "pygments_lexer": "ipython3",
   "version": "3.6.5"
  }
 },
 "nbformat": 4,
 "nbformat_minor": 2
}
